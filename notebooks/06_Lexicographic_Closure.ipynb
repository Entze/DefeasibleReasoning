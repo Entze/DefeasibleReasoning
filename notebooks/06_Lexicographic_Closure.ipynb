{
 "cells": [
  {
   "cell_type": "markdown",
   "metadata": {
    "pycharm": {
     "name": "#%% md\n"
    }
   },
   "source": [
    "# 06 Lexicographic Closure\n",
    "\n",
    "This notebook defines a method to calculate if a statement (a twiddle statement) is entailed by the lexicographic closure of a knowledge base."
   ]
  },
  {
   "cell_type": "code",
   "execution_count": 1,
   "metadata": {
    "collapsed": false,
    "jupyter": {
     "outputs_hidden": false
    },
    "pycharm": {
     "name": "#%%\n"
    }
   },
   "outputs": [],
   "source": [
    "import os\n",
    "import sys\n",
    "\n",
    "\n",
    "sys.path.append(os.path.join('..', 'common'))\n",
    "\n",
    "from ranked_models import statement_ranking\n",
    "from util import entails, print_knowledge_base, materialized\n",
    "\n",
    "from itertools import combinations\n",
    "\n",
    "from datatypes import Formula, Bot, Top, KnowledgeBase, Normally, Literal, Atom\n",
    "from typing import Set\n"
   ]
  },
  {
   "cell_type": "code",
   "execution_count": 2,
   "metadata": {
    "collapsed": false,
    "jupyter": {
     "outputs_hidden": false
    },
    "pycharm": {
     "name": "#%%\n"
    }
   },
   "outputs": [],
   "source": [
    "bot = Bot()            # Falsum\n",
    "top = Top()            # Verum\n",
    "m = Literal(Atom('m')) # mamalian red blood cells\n",
    "v = Literal(Atom('v')) # vertebrate red blood cells\n",
    "a = Literal(Atom('a')) # avian red blood cells\n",
    "c = Literal(Atom('c')) # cell membrane\n",
    "n = Literal(Atom('n')) # nucleus\n",
    "s = Literal(Atom('s')) # mammalian sickle cells\n",
    "b = Literal(Atom('b')) # bioconcave shape"
   ]
  },
  {
   "cell_type": "markdown",
   "metadata": {
    "pycharm": {
     "name": "#%% md\n"
    }
   },
   "source": [
    "Lexicographic closure works by, instead of deleting statements, weakening levels. This weakening can be done by two ways.\n",
    "\n",
    "Either weaken the materialized version of the rank to a DNF(-like) or CNF(-like) structure."
   ]
  },
  {
   "cell_type": "code",
   "execution_count": 3,
   "metadata": {
    "collapsed": false,
    "jupyter": {
     "outputs_hidden": false
    },
    "pycharm": {
     "name": "#%%\n"
    }
   },
   "outputs": [],
   "source": [
    "def weaken_to_dnf(formulas: Set[Formula], by=0) -> Set[Formula]:\n",
    "    if by <= 0:\n",
    "        return formulas\n",
    "    elif by >= len(formulas):\n",
    "        return {Formula(Top())}\n",
    "    disjuncts = combinations(formulas, by)\n",
    "    formula = Bot()\n",
    "    for disjunct in disjuncts:\n",
    "        inner_formula = Top()\n",
    "        for d in disjunct:\n",
    "            inner_formula = inner_formula & d\n",
    "        formula = formula | inner_formula\n",
    "    return {formula}\n"
   ]
  },
  {
   "cell_type": "code",
   "execution_count": 4,
   "metadata": {
    "collapsed": false,
    "jupyter": {
     "outputs_hidden": false
    },
    "pycharm": {
     "name": "#%%\n"
    }
   },
   "outputs": [],
   "source": [
    "def weaken_to_cnf(formulas: Set[Formula], to=0) -> Set[Formula]:\n",
    "    if to <= 0:\n",
    "        return formulas\n",
    "    elif to > len(formulas):\n",
    "        return {Formula(Top())}\n",
    "    conjuncts = combinations(formulas, to)\n",
    "    formulas = set()\n",
    "    for conjunct in conjuncts:\n",
    "        formula = Bot()\n",
    "        for c in conjunct:\n",
    "            formula = formula | c\n",
    "        formulas.add(formula)\n",
    "    return formulas"
   ]
  },
  {
   "cell_type": "markdown",
   "metadata": {
    "pycharm": {
     "name": "#%% md\n"
    }
   },
   "source": [
    "Let us compare the two approaches:"
   ]
  },
  {
   "cell_type": "code",
   "execution_count": 5,
   "metadata": {
    "collapsed": false,
    "jupyter": {
     "outputs_hidden": false
    },
    "pycharm": {
     "name": "#%%\n"
    }
   },
   "outputs": [
    {
     "name": "stdout",
     "output_type": "stream",
     "text": [
      "{ s → m, m → v, s |~ ¬b, v |~ n, a → v, m |~ ¬n, v |~ c, m |~ b }\n"
     ]
    }
   ],
   "source": [
    "\n",
    "K={-(m >> v) / bot, -(a >> v) / bot, v / c, v / n, m / -n, -(s >> m) / bot, m / b, s / -b}\n",
    "rank = statement_ranking(K)\n",
    "print_knowledge_base(K)"
   ]
  },
  {
   "cell_type": "markdown",
   "metadata": {
    "pycharm": {
     "name": "#%% md\n"
    }
   },
   "source": [
    "`weaken_to_dnf(R, N)` can be read as: reduce the clause by `N` statements (twiddle statements between commas) and combine them conjunctivly. If `N` $\\ge$ $|K_r|$ then $\\top$ remains."
   ]
  },
  {
   "cell_type": "code",
   "execution_count": 6,
   "metadata": {
    "collapsed": false,
    "jupyter": {
     "outputs_hidden": false
    },
    "pycharm": {
     "name": "#%%\n"
    }
   },
   "outputs": [
    {
     "name": "stdout",
     "output_type": "stream",
     "text": [
      "{v → c, v → n}\n",
      "{v → c ∨ v → n}\n",
      "{⊤}\n"
     ]
    }
   ],
   "source": [
    "r0 = materialized(rank[0])\n",
    "print(weaken_to_dnf(r0, 0))\n",
    "print(weaken_to_dnf(r0, 1))\n",
    "print(weaken_to_dnf(r0, 2))"
   ]
  },
  {
   "cell_type": "markdown",
   "metadata": {
    "pycharm": {
     "name": "#%% md\n"
    }
   },
   "source": [
    "In contrast. `weaken_to_cnf(R, N)` can be read as: For each new clause select `N` statements and combine them disjunctivly."
   ]
  },
  {
   "cell_type": "code",
   "execution_count": 7,
   "metadata": {
    "collapsed": false,
    "jupyter": {
     "outputs_hidden": false
    },
    "pycharm": {
     "name": "#%%\n"
    }
   },
   "outputs": [
    {
     "name": "stdout",
     "output_type": "stream",
     "text": [
      "{v → c, v → n}\n",
      "{v → c ∨ v → n}\n",
      "{⊤}\n"
     ]
    }
   ],
   "source": [
    "print(weaken_to_cnf(r0, 1))\n",
    "print(weaken_to_cnf(r0, 2))\n",
    "print(weaken_to_cnf(r0, 3))"
   ]
  },
  {
   "cell_type": "markdown",
   "metadata": {
    "pycharm": {
     "name": "#%% md\n"
    }
   },
   "source": [
    "As you can see these approaches produce the same result with a set of two statements. The difference can be seen better with more clauses:"
   ]
  },
  {
   "cell_type": "markdown",
   "metadata": {
    "pycharm": {
     "name": "#%% md\n"
    }
   },
   "source": [
    "DNF(-like):"
   ]
  },
  {
   "cell_type": "code",
   "execution_count": 8,
   "metadata": {
    "collapsed": false,
    "jupyter": {
     "outputs_hidden": false
    },
    "pycharm": {
     "name": "#%%\n"
    }
   },
   "outputs": [
    {
     "name": "stdout",
     "output_type": "stream",
     "text": [
      "{s → m, a → v, m → v}\n",
      "{s → m ∨ a → v ∨ m → v}\n",
      "{s → m ∧ a → v ∨ s → m ∧ m → v ∨ a → v ∧ m → v}\n",
      "{⊤}\n"
     ]
    }
   ],
   "source": [
    "rinf = materialized(rank[float('inf')])\n",
    "print(weaken_to_dnf(rinf, 0))\n",
    "print(weaken_to_dnf(rinf, 1))\n",
    "print(weaken_to_dnf(rinf, 2))\n",
    "print(weaken_to_dnf(rinf, 3))"
   ]
  },
  {
   "cell_type": "markdown",
   "metadata": {
    "pycharm": {
     "name": "#%% md\n"
    }
   },
   "source": [
    "CNF(-like):"
   ]
  },
  {
   "cell_type": "code",
   "execution_count": 9,
   "metadata": {
    "collapsed": false,
    "jupyter": {
     "outputs_hidden": false
    },
    "pycharm": {
     "name": "#%%\n"
    }
   },
   "outputs": [
    {
     "name": "stdout",
     "output_type": "stream",
     "text": [
      "{s → m, a → v, m → v}\n",
      "{a → v ∨ m → v, s → m ∨ a → v, s → m ∨ m → v}\n",
      "{s → m ∨ a → v ∨ m → v}\n",
      "{⊤}\n"
     ]
    }
   ],
   "source": [
    "print(weaken_to_cnf(rinf, 1))\n",
    "print(weaken_to_cnf(rinf, 2))\n",
    "print(weaken_to_cnf(rinf, 3))\n",
    "print(weaken_to_cnf(rinf, 4))"
   ]
  },
  {
   "cell_type": "markdown",
   "metadata": {
    "pycharm": {
     "name": "#%% md\n"
    }
   },
   "source": [
    "The lexicographic closure then uses these methods to reduce the ranks until the antecedent of the statement is no longer entailed to be false."
   ]
  },
  {
   "cell_type": "code",
   "execution_count": 10,
   "metadata": {
    "collapsed": false,
    "jupyter": {
     "outputs_hidden": false
    },
    "pycharm": {
     "name": "#%%\n"
    }
   },
   "outputs": [],
   "source": [
    "def lexicographic_closure_dnf(knowledge_base: KnowledgeBase, statement: Normally):\n",
    "    rank = statement_ranking(knowledge_base)\n",
    "    i = 0\n",
    "    r = len(rank) - (float('inf') in rank)\n",
    "    if r == 0:\n",
    "        t = materialized(rank[float('inf')])\n",
    "        rki = -Top() / Bot()\n",
    "    else:\n",
    "        while True:\n",
    "            t = materialized({statement for k in (*range(i+1, r), float('inf')) for statement in rank[k]})\n",
    "            j = 0\n",
    "            n = len(rank[i])\n",
    "            while True:\n",
    "                rki = weaken_to_dnf(materialized(rank[i]), j)\n",
    "                j+=1\n",
    "                if j > n or not entails(t | rki, -statement.left):\n",
    "                    break\n",
    "            i += 1\n",
    "            if i >= r or not entails(t | rki, -statement.left):\n",
    "               break\n",
    "    return entails(t | rki, statement.materialize())\n"
   ]
  },
  {
   "cell_type": "code",
   "execution_count": 11,
   "metadata": {
    "collapsed": false,
    "jupyter": {
     "outputs_hidden": false
    },
    "pycharm": {
     "name": "#%%\n"
    }
   },
   "outputs": [
    {
     "data": {
      "text/plain": [
       "True"
      ]
     },
     "execution_count": 11,
     "metadata": {},
     "output_type": "execute_result"
    }
   ],
   "source": [
    "lexicographic_closure_dnf(K, s / -n)"
   ]
  },
  {
   "cell_type": "code",
   "execution_count": 12,
   "metadata": {
    "collapsed": false,
    "jupyter": {
     "outputs_hidden": false
    },
    "pycharm": {
     "name": "#%%\n"
    }
   },
   "outputs": [
    {
     "data": {
      "text/plain": [
       "False"
      ]
     },
     "execution_count": 12,
     "metadata": {},
     "output_type": "execute_result"
    }
   ],
   "source": [
    "lexicographic_closure_dnf(K, m / -b)"
   ]
  },
  {
   "cell_type": "code",
   "execution_count": 13,
   "metadata": {
    "collapsed": false,
    "jupyter": {
     "outputs_hidden": false
    },
    "pycharm": {
     "name": "#%%\n"
    }
   },
   "outputs": [],
   "source": [
    "def lexicographic_closure_cnf(knowledge_base: KnowledgeBase, statement: Normally):\n",
    "    rank = statement_ranking(knowledge_base)\n",
    "    i = 0\n",
    "    r = len(rank) - (float('inf') in rank)\n",
    "    if r == 0:\n",
    "        t = materialized(rank[float('inf')])\n",
    "        rki = -Top() / Bot()\n",
    "    else:\n",
    "        while True:\n",
    "            t = materialized({statement for k in (*range(i+1, r), float('inf')) for statement in rank[k]})\n",
    "            j = 0\n",
    "            n = len(rank[i])\n",
    "            while True:\n",
    "                rki = weaken_to_cnf(materialized(rank[i]), j+1)\n",
    "                j+=1\n",
    "                if j > n or not entails(t | rki, -statement.left):\n",
    "                    break\n",
    "            i += 1\n",
    "            if i >= r or not entails(t | rki, -statement.left):\n",
    "               break\n",
    "    return entails(t | rki, statement.materialize())\n"
   ]
  },
  {
   "cell_type": "code",
   "execution_count": 14,
   "metadata": {
    "collapsed": false,
    "jupyter": {
     "outputs_hidden": false
    },
    "pycharm": {
     "name": "#%%\n"
    }
   },
   "outputs": [
    {
     "data": {
      "text/plain": [
       "True"
      ]
     },
     "execution_count": 14,
     "metadata": {},
     "output_type": "execute_result"
    }
   ],
   "source": [
    "lexicographic_closure_cnf(K, s/-n)"
   ]
  },
  {
   "cell_type": "code",
   "execution_count": 15,
   "metadata": {
    "collapsed": false,
    "jupyter": {
     "outputs_hidden": false
    },
    "pycharm": {
     "name": "#%%\n"
    }
   },
   "outputs": [
    {
     "data": {
      "text/plain": [
       "False"
      ]
     },
     "execution_count": 15,
     "metadata": {},
     "output_type": "execute_result"
    }
   ],
   "source": [
    "lexicographic_closure_cnf(K, m/-b)"
   ]
  },
  {
   "cell_type": "code",
   "execution_count": null,
   "metadata": {
    "collapsed": false,
    "jupyter": {
     "outputs_hidden": false
    },
    "pycharm": {
     "name": "#%%\n"
    }
   },
   "outputs": [],
   "source": []
  }
 ],
 "metadata": {
  "kernelspec": {
   "display_name": "Python 3 (ipykernel)",
   "language": "python",
   "name": "python3"
  },
  "language_info": {
   "codemirror_mode": {
    "name": "ipython",
    "version": 3
   },
   "file_extension": ".py",
   "mimetype": "text/x-python",
   "name": "python",
   "nbconvert_exporter": "python",
   "pygments_lexer": "ipython3",
   "version": "3.8.13"
  }
 },
 "nbformat": 4,
 "nbformat_minor": 4
}
