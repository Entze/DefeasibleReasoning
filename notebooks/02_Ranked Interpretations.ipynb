{
 "cells": [
  {
   "cell_type": "markdown",
   "source": [
    "# 02 Ranked Interpretations\n",
    "\n",
    "This notebook defines both algorithms to rank the valuations of a knowledgebase and the statements in them."
   ],
   "metadata": {
    "collapsed": false,
    "pycharm": {
     "name": "#%% md\n"
    }
   }
  },
  {
   "cell_type": "code",
   "execution_count": 1,
   "id": "290fae35-682b-437f-b2b6-4bb9a3c0b898",
   "metadata": {
    "pycharm": {
     "name": "#%%\n"
    }
   },
   "outputs": [],
   "source": [
    "import os\n",
    "import sys\n",
    "sys.path.append(os.path.join('..', 'common'))\n",
    "\n",
    "from datatypes import KnowledgeBase, Valuation, Alphabet, Normally, Formula, Literal, Atom, Bot, Top\n",
    "from util import print_knowledge_base, all_valuations, print_valuation, entails, materialized\n",
    "\n",
    "from frozendict import frozendict\n",
    "\n",
    "from typing import Mapping, Set, Optional\n",
    "from numbers import Number"
   ]
  },
  {
   "cell_type": "code",
   "execution_count": 2,
   "id": "f5b22f91-ec90-4b97-9651-246008cac7bb",
   "metadata": {
    "pycharm": {
     "name": "#%%\n"
    }
   },
   "outputs": [
    {
     "name": "stdout",
     "output_type": "stream",
     "text": [
      "{ p |~ ¬f, b |~ f, b |~ w, p → b }\n"
     ]
    }
   ],
   "source": [
    "f = Literal(Atom('f')) # flies\n",
    "b = Literal(Atom('b')) # is a bird\n",
    "p = Literal(Atom('p')) # is a pengiun\n",
    "w = Literal(Atom('w')) # has wings\n",
    "bot = Bot()            # Falsum\n",
    "top = Top()            # Verum\n",
    "K = {-(p >> b) / Bot(), b / f, p / -f, b / w}\n",
    "alph = {lit.atom for lit in (p, b, f, w)}\n",
    "print_knowledge_base(K)"
   ]
  },
  {
   "cell_type": "markdown",
   "source": [
    "First we define the ranking of the models/interpretations. That is a mapping from the valuation to a number $i \\in \\mathbb{N} \\cup \\{\\infty\\}$."
   ],
   "metadata": {
    "collapsed": false,
    "pycharm": {
     "name": "#%% md\n"
    }
   }
  },
  {
   "cell_type": "code",
   "execution_count": 3,
   "outputs": [],
   "source": [
    "RankedModel = Mapping[Valuation, Number]"
   ],
   "metadata": {
    "collapsed": false,
    "pycharm": {
     "name": "#%%\n"
    }
   }
  },
  {
   "cell_type": "code",
   "execution_count": 4,
   "outputs": [],
   "source": [
    "def valuation_in_min(antecedent: Formula, valuation: Valuation, ranked_model: RankedModel) -> bool:\n",
    "    i = ranked_model[valuation]\n",
    "    for valuation, rank in ranked_model.items():\n",
    "        if rank >= i:\n",
    "            continue\n",
    "        if antecedent(valuation):\n",
    "            return False\n",
    "    return True"
   ],
   "metadata": {
    "collapsed": false,
    "pycharm": {
     "name": "#%%\n"
    }
   }
  },
  {
   "cell_type": "code",
   "execution_count": 5,
   "outputs": [],
   "source": [
    "def violates_statement(statement: Normally, valuation: Valuation, ranked_model: RankedModel):\n",
    "    antecedent = statement.left\n",
    "    if not valuation_in_min(antecedent, valuation, ranked_model):\n",
    "        return False\n",
    "    if statement.materialize()(valuation):\n",
    "        return False\n",
    "    return True"
   ],
   "metadata": {
    "collapsed": false,
    "pycharm": {
     "name": "#%%\n"
    }
   }
  },
  {
   "cell_type": "markdown",
   "source": [
    "The algorithm is defined like in the slides (albeit that this is probably not the most efficient implementation)."
   ],
   "metadata": {
    "collapsed": false,
    "pycharm": {
     "name": "#%% md\n"
    }
   }
  },
  {
   "cell_type": "code",
   "execution_count": 6,
   "outputs": [],
   "source": [
    "def minimal_ranked_model(knowledge_base: KnowledgeBase, alphabet: Optional[Alphabet] = None):\n",
    "    if alphabet is None:\n",
    "        alphabet = {atom for statement in knowledge_base for atom in statement.atoms}\n",
    "    ranked_model = {}\n",
    "    U = set(frozendict(valuation) for valuation in all_valuations(alphabet, True))\n",
    "    for valuation in U:\n",
    "        ranked_model[valuation] = 0\n",
    "    i = 0\n",
    "    V = U\n",
    "    V_ = set()\n",
    "    while True:\n",
    "        V_ = V\n",
    "        V = {valuation for valuation in U if ranked_model[valuation] == i and any(\n",
    "            violates_statement(statement, valuation, ranked_model) for statement in knowledge_base)}\n",
    "        if V == V_:\n",
    "            for valuation in V:\n",
    "                ranked_model[valuation] = float('inf')\n",
    "            break  # Done\n",
    "        else:\n",
    "            i = i + 1\n",
    "            for valuation in V:\n",
    "                ranked_model[valuation] = i\n",
    "    return ranked_model"
   ],
   "metadata": {
    "collapsed": false,
    "pycharm": {
     "name": "#%%\n"
    }
   }
  },
  {
   "cell_type": "code",
   "execution_count": 7,
   "outputs": [],
   "source": [
    "def print_ranked_model(ranked_model: RankedModel, alphabet: Optional[Alphabet] = None):\n",
    "    r = max(rank for rank in ranked_model.values() if rank < float('inf'))\n",
    "    pad = len(str(r)) + 1\n",
    "    if float('inf') in ranked_model.values():\n",
    "        print('∞:'.rjust(pad), '-' * 8)\n",
    "        for valuation, rank in ranked_model.items():\n",
    "            if rank == float('inf'):\n",
    "                print(' ' * (pad + 2), end='')\n",
    "                print_valuation(valuation, alphabet)\n",
    "    if len(ranked_model) > 1:\n",
    "        for i in reversed(range(r + 1)):\n",
    "            print('{}:'.format(i).rjust(pad), '-' * 8)\n",
    "            for valuation, rank in ranked_model.items():\n",
    "                if rank == i:\n",
    "                    print(' ' * (pad + 2), end='')\n",
    "                    print_valuation(valuation, alphabet)\n"
   ],
   "metadata": {
    "collapsed": false,
    "pycharm": {
     "name": "#%%\n"
    }
   }
  },
  {
   "cell_type": "code",
   "execution_count": 8,
   "outputs": [
    {
     "name": "stdout",
     "output_type": "stream",
     "text": [
      "{ p |~ ¬f, b |~ f, b |~ w, p → b }\n",
      "∞: --------\n",
      "    { p w     } { f b     }\n",
      "    { p       } { f w b   }\n",
      "    { p f w   } { b       }\n",
      "    { p f     } { b w     }\n",
      "2: --------\n",
      "    { p f b   } { w       }\n",
      "    { p f b w } {         }\n",
      "1: --------\n",
      "    { f b     } { p w     }\n",
      "    { b w     } { p f     }\n",
      "    { p b w   } { f       }\n",
      "    { b       } { p f w   }\n",
      "    { p b     } { f w     }\n",
      "0: --------\n",
      "    { w       } { p f b   }\n",
      "    {         } { p b f w }\n",
      "    { f w     } { p b     }\n",
      "    { f b w   } { p       }\n",
      "    { f       } { p w b   }\n"
     ]
    }
   ],
   "source": [
    "print_knowledge_base(K)\n",
    "min_rank_model = minimal_ranked_model(K)\n",
    "print_ranked_model(min_rank_model, alph)"
   ],
   "metadata": {
    "collapsed": false,
    "pycharm": {
     "name": "#%%\n"
    }
   }
  },
  {
   "cell_type": "markdown",
   "source": [
    "The second approach is to rank the statements directly. Again the algorithm of the slides is used."
   ],
   "metadata": {
    "collapsed": false,
    "pycharm": {
     "name": "#%% md\n"
    }
   }
  },
  {
   "cell_type": "code",
   "execution_count": 9,
   "outputs": [],
   "source": [
    "StatementRanking = Mapping[Number, Set[Normally]]\n",
    "\n",
    "def statement_ranking(knowledge_base: KnowledgeBase) -> StatementRanking:\n",
    "    E = {0: knowledge_base}\n",
    "    rank = {}\n",
    "    i = 0\n",
    "    while True:\n",
    "        E[i + 1] = set()\n",
    "        for statement in E[i]:\n",
    "            if entails(materialized(E[i]), -statement.left):\n",
    "                E[i + 1].add(statement)\n",
    "        if E[i] == E[i + 1]:\n",
    "            break\n",
    "        rank[i] = E[i] - E[i + 1]\n",
    "        i = i + 1\n",
    "    rank[float('inf')] = E[i]\n",
    "    return rank\n"
   ],
   "metadata": {
    "collapsed": false,
    "pycharm": {
     "name": "#%%\n"
    }
   }
  },
  {
   "cell_type": "code",
   "execution_count": 10,
   "outputs": [],
   "source": [
    "def print_statement_ranking(statement_ranking: StatementRanking):\n",
    "    r = len(statement_ranking) - (float('inf') in statement_ranking)\n",
    "    pad = len(str(r)) + 1\n",
    "\n",
    "    if len(statement_ranking) > 1:\n",
    "        for i in range(r):\n",
    "            print('{}:'.format(i).rjust(pad), end=' ')\n",
    "            statements = statement_ranking[i]\n",
    "            print_knowledge_base(statements)\n",
    "\n",
    "    if float('inf') in statement_ranking.keys():\n",
    "        print('∞:'.rjust(pad), end=' ')\n",
    "        statements = statement_ranking[float('inf')]\n",
    "        print_knowledge_base(statements)\n"
   ],
   "metadata": {
    "collapsed": false,
    "pycharm": {
     "name": "#%%\n"
    }
   }
  },
  {
   "cell_type": "code",
   "execution_count": 11,
   "id": "29a6472b-6515-44b9-ace6-9bdbb408e635",
   "metadata": {
    "pycharm": {
     "name": "#%%\n"
    }
   },
   "outputs": [
    {
     "name": "stdout",
     "output_type": "stream",
     "text": [
      "{ p |~ ¬f, b |~ f, b |~ w, p → b }\n",
      "0: { b |~ f, b |~ w }\n",
      "1: { p |~ ¬f }\n",
      "∞: { p → b }\n"
     ]
    }
   ],
   "source": [
    "print_knowledge_base(K)\n",
    "rank = statement_ranking(K)\n",
    "print_statement_ranking(rank)"
   ]
  },
  {
   "cell_type": "code",
   "execution_count": 11,
   "id": "71a8a5a0-6e8c-4c56-8e4c-313fa15d89aa",
   "metadata": {
    "pycharm": {
     "name": "#%%\n"
    }
   },
   "outputs": [],
   "source": []
  }
 ],
 "metadata": {
  "kernelspec": {
   "display_name": "Python 3 (ipykernel)",
   "language": "python",
   "name": "python3"
  },
  "language_info": {
   "codemirror_mode": {
    "name": "ipython",
    "version": 3
   },
   "file_extension": ".py",
   "mimetype": "text/x-python",
   "name": "python",
   "nbconvert_exporter": "python",
   "pygments_lexer": "ipython3",
   "version": "3.10.5"
  }
 },
 "nbformat": 4,
 "nbformat_minor": 5
}