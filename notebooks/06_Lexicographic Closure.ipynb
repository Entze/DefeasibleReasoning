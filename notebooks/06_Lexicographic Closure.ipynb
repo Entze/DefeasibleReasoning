{
 "cells": [
  {
   "cell_type": "markdown",
   "source": [
    "# 06 Lexicographic Closure\n",
    "\n",
    "This notebook defines a method to calculate if a statement (a twiddle statement) is entailed by the lexicographic closure of a knowledge base."
   ],
   "metadata": {
    "collapsed": false,
    "pycharm": {
     "name": "#%% md\n"
    }
   }
  },
  {
   "cell_type": "code",
   "execution_count": 30,
   "outputs": [],
   "source": [
    "import os\n",
    "import sys\n",
    "\n",
    "\n",
    "sys.path.append(os.path.join('..', 'common'))\n",
    "\n",
    "from ranked_models import statement_ranking\n",
    "from util import entails, print_knowledge_base, materialized\n",
    "\n",
    "from itertools import combinations\n",
    "\n",
    "from datatypes import Formula, Bot, Top, KnowledgeBase, Normally, Literal, Atom\n",
    "from typing import Set\n"
   ],
   "metadata": {
    "collapsed": false,
    "pycharm": {
     "name": "#%%\n"
    }
   }
  },
  {
   "cell_type": "code",
   "execution_count": 31,
   "outputs": [],
   "source": [
    "bot = Bot()            # Falsum\n",
    "top = Top()            # Verum\n",
    "m = Literal(Atom('m')) # mamalian red blood cells\n",
    "v = Literal(Atom('v')) # vertebrate red blood cells\n",
    "a = Literal(Atom('a')) # avian red blood cells\n",
    "c = Literal(Atom('c')) # cell membrane\n",
    "n = Literal(Atom('n')) # nucleus\n",
    "s = Literal(Atom('s')) # mammalian sickle cells\n",
    "b = Literal(Atom('b')) # bioconcave shape"
   ],
   "metadata": {
    "collapsed": false,
    "pycharm": {
     "name": "#%%\n"
    }
   }
  },
  {
   "cell_type": "markdown",
   "source": [
    "Lexicographic closure works by, instead of deleting statements, weakening levels. This weakening can be done by two ways.\n",
    "\n",
    "Either weaken the materialized version of the rank to a DNF(-like) or CNF(-like) structure."
   ],
   "metadata": {
    "collapsed": false,
    "pycharm": {
     "name": "#%% md\n"
    }
   }
  },
  {
   "cell_type": "code",
   "execution_count": 32,
   "outputs": [],
   "source": [
    "def weaken_to_dnf(formulas: Set[Formula], by=0) -> Set[Formula]:\n",
    "    if by <= 0:\n",
    "        return formulas\n",
    "    elif by >= len(formulas):\n",
    "        return {Formula(Top())}\n",
    "    disjuncts = combinations(formulas, by)\n",
    "    formula = Bot()\n",
    "    for disjunct in disjuncts:\n",
    "        inner_formula = Top()\n",
    "        for d in disjunct:\n",
    "            inner_formula = inner_formula & d\n",
    "        formula = formula | inner_formula\n",
    "    return {formula}\n"
   ],
   "metadata": {
    "collapsed": false,
    "pycharm": {
     "name": "#%%\n"
    }
   }
  },
  {
   "cell_type": "code",
   "execution_count": 33,
   "outputs": [],
   "source": [
    "def weaken_to_cnf(formulas: Set[Formula], to=0) -> Set[Formula]:\n",
    "    if to <= 0:\n",
    "        return formulas\n",
    "    elif to > len(formulas):\n",
    "        return {Formula(Top())}\n",
    "    conjuncts = combinations(formulas, to)\n",
    "    formulas = set()\n",
    "    for conjunct in conjuncts:\n",
    "        formula = Bot()\n",
    "        for c in conjunct:\n",
    "            formula = formula | c\n",
    "        formulas.add(formula)\n",
    "    return formulas"
   ],
   "metadata": {
    "collapsed": false,
    "pycharm": {
     "name": "#%%\n"
    }
   }
  },
  {
   "cell_type": "markdown",
   "source": [
    "Let us compare the two approaches:"
   ],
   "metadata": {
    "collapsed": false,
    "pycharm": {
     "name": "#%% md\n"
    }
   }
  },
  {
   "cell_type": "code",
   "execution_count": 34,
   "outputs": [
    {
     "name": "stdout",
     "output_type": "stream",
     "text": [
      "{ m |~ b, m → v, v |~ c, m |~ ¬n, s → m, a → v, s |~ ¬b, v |~ n }\n"
     ]
    }
   ],
   "source": [
    "\n",
    "K={-(m >> v) / bot, -(a >> v) / bot, v / c, v / n, m / -n, -(s >> m) / bot, m / b, s / -b}\n",
    "rank = statement_ranking(K)\n",
    "print_knowledge_base(K)"
   ],
   "metadata": {
    "collapsed": false,
    "pycharm": {
     "name": "#%%\n"
    }
   }
  },
  {
   "cell_type": "markdown",
   "source": [
    "`weaken_to_dnf(R, N)` can be read as: reduce the clause by `N` statements (twiddle statements between commas) and combine them conjunctivly. If `N` $\\ge$ $|K_r|$ then $\\top$ remains."
   ],
   "metadata": {
    "collapsed": false,
    "pycharm": {
     "name": "#%% md\n"
    }
   }
  },
  {
   "cell_type": "code",
   "execution_count": 35,
   "outputs": [
    {
     "name": "stdout",
     "output_type": "stream",
     "text": [
      "{v → n, v → c}\n",
      "{v → n ∨ v → c}\n",
      "{⊤}\n"
     ]
    }
   ],
   "source": [
    "r0 = materialized(rank[0])\n",
    "print(weaken_to_dnf(r0, 0))\n",
    "print(weaken_to_dnf(r0, 1))\n",
    "print(weaken_to_dnf(r0, 2))"
   ],
   "metadata": {
    "collapsed": false,
    "pycharm": {
     "name": "#%%\n"
    }
   }
  },
  {
   "cell_type": "markdown",
   "source": [
    "In contrast. `weaken_to_cnf(R, N)` can be read as: For each new clause select `N` statements and combine them disjunctivly."
   ],
   "metadata": {
    "collapsed": false,
    "pycharm": {
     "name": "#%% md\n"
    }
   }
  },
  {
   "cell_type": "code",
   "execution_count": 36,
   "outputs": [
    {
     "name": "stdout",
     "output_type": "stream",
     "text": [
      "{v → n, v → c}\n",
      "{v → n ∨ v → c}\n",
      "{⊤}\n"
     ]
    }
   ],
   "source": [
    "print(weaken_to_cnf(r0, 1))\n",
    "print(weaken_to_cnf(r0, 2))\n",
    "print(weaken_to_cnf(r0, 3))"
   ],
   "metadata": {
    "collapsed": false,
    "pycharm": {
     "name": "#%%\n"
    }
   }
  },
  {
   "cell_type": "markdown",
   "source": [
    "As you can see these approaches produce the same result with a set of two statements. The difference can be seen better with more clauses:"
   ],
   "metadata": {
    "collapsed": false,
    "pycharm": {
     "name": "#%% md\n"
    }
   }
  },
  {
   "cell_type": "markdown",
   "source": [
    "DNF(-like):"
   ],
   "metadata": {
    "collapsed": false,
    "pycharm": {
     "name": "#%% md\n"
    }
   }
  },
  {
   "cell_type": "code",
   "execution_count": 37,
   "outputs": [
    {
     "name": "stdout",
     "output_type": "stream",
     "text": [
      "{a → v, m → v, s → m}\n",
      "{a → v ∨ m → v ∨ s → m}\n",
      "{a → v ∧ m → v ∨ a → v ∧ s → m ∨ m → v ∧ s → m}\n",
      "{⊤}\n"
     ]
    }
   ],
   "source": [
    "rinf = materialized(rank[float('inf')])\n",
    "print(weaken_to_dnf(rinf, 0))\n",
    "print(weaken_to_dnf(rinf, 1))\n",
    "print(weaken_to_dnf(rinf, 2))\n",
    "print(weaken_to_dnf(rinf, 3))"
   ],
   "metadata": {
    "collapsed": false,
    "pycharm": {
     "name": "#%%\n"
    }
   }
  },
  {
   "cell_type": "markdown",
   "source": [
    "CNF(-like):"
   ],
   "metadata": {
    "collapsed": false,
    "pycharm": {
     "name": "#%% md\n"
    }
   }
  },
  {
   "cell_type": "code",
   "execution_count": 38,
   "outputs": [
    {
     "name": "stdout",
     "output_type": "stream",
     "text": [
      "{a → v, m → v, s → m}\n",
      "{m → v ∨ s → m, a → v ∨ m → v, a → v ∨ s → m}\n",
      "{a → v ∨ m → v ∨ s → m}\n",
      "{⊤}\n"
     ]
    }
   ],
   "source": [
    "print(weaken_to_cnf(rinf, 1))\n",
    "print(weaken_to_cnf(rinf, 2))\n",
    "print(weaken_to_cnf(rinf, 3))\n",
    "print(weaken_to_cnf(rinf, 4))"
   ],
   "metadata": {
    "collapsed": false,
    "pycharm": {
     "name": "#%%\n"
    }
   }
  },
  {
   "cell_type": "markdown",
   "source": [
    "The lexicographic closure then uses these methods to reduce the ranks until the antecedent of the statement is no longer entailed to be false."
   ],
   "metadata": {
    "collapsed": false,
    "pycharm": {
     "name": "#%% md\n"
    }
   }
  },
  {
   "cell_type": "code",
   "execution_count": 39,
   "outputs": [],
   "source": [
    "def lexicographic_closure_dnf(knowledge_base: KnowledgeBase, statement: Normally):\n",
    "    rank = statement_ranking(knowledge_base)\n",
    "    i = 0\n",
    "    r = len(rank) - (float('inf') in rank)\n",
    "    if r == 0:\n",
    "        t = materialized(rank[float('inf')])\n",
    "        rki = -Top() / Bot()\n",
    "    else:\n",
    "        while True:\n",
    "            t = materialized({statement for k in (*range(i+1, r), float('inf')) for statement in rank[k]})\n",
    "            j = 0\n",
    "            n = len(rank[i])\n",
    "            while True:\n",
    "                rki = weaken_to_dnf(materialized(rank[i]), j)\n",
    "                j+=1\n",
    "                if j > n or not entails(t | rki, -statement.left):\n",
    "                    break\n",
    "            i += 1\n",
    "            if i >= r or not entails(t | rki, -statement.left):\n",
    "               break\n",
    "    return entails(t | rki, statement.materialize())\n"
   ],
   "metadata": {
    "collapsed": false,
    "pycharm": {
     "name": "#%%\n"
    }
   }
  },
  {
   "cell_type": "code",
   "execution_count": 40,
   "outputs": [
    {
     "data": {
      "text/plain": "True"
     },
     "execution_count": 40,
     "metadata": {},
     "output_type": "execute_result"
    }
   ],
   "source": [
    "lexicographic_closure_dnf(K, s / -n)"
   ],
   "metadata": {
    "collapsed": false,
    "pycharm": {
     "name": "#%%\n"
    }
   }
  },
  {
   "cell_type": "code",
   "execution_count": 41,
   "outputs": [
    {
     "data": {
      "text/plain": "False"
     },
     "execution_count": 41,
     "metadata": {},
     "output_type": "execute_result"
    }
   ],
   "source": [
    "lexicographic_closure_dnf(K, m / -b)"
   ],
   "metadata": {
    "collapsed": false,
    "pycharm": {
     "name": "#%%\n"
    }
   }
  },
  {
   "cell_type": "code",
   "execution_count": 42,
   "outputs": [],
   "source": [
    "def lexicographic_closure_cnf(knowledge_base: KnowledgeBase, statement: Normally):\n",
    "    rank = statement_ranking(knowledge_base)\n",
    "    i = 0\n",
    "    r = len(rank) - (float('inf') in rank)\n",
    "    if r == 0:\n",
    "        t = materialized(rank[float('inf')])\n",
    "        rki = -Top() / Bot()\n",
    "    else:\n",
    "        while True:\n",
    "            t = materialized({statement for k in (*range(i+1, r), float('inf')) for statement in rank[k]})\n",
    "            j = 0\n",
    "            n = len(rank[i])\n",
    "            while True:\n",
    "                rki = weaken_to_cnf(materialized(rank[i]), j+1)\n",
    "                j+=1\n",
    "                if j > n or not entails(t | rki, -statement.left):\n",
    "                    break\n",
    "            i += 1\n",
    "            if i >= r or not entails(t | rki, -statement.left):\n",
    "               break\n",
    "    return entails(t | rki, statement.materialize())\n"
   ],
   "metadata": {
    "collapsed": false,
    "pycharm": {
     "name": "#%%\n"
    }
   }
  },
  {
   "cell_type": "code",
   "execution_count": 43,
   "outputs": [
    {
     "data": {
      "text/plain": "True"
     },
     "execution_count": 43,
     "metadata": {},
     "output_type": "execute_result"
    }
   ],
   "source": [
    "lexicographic_closure_cnf(K, s/-n)"
   ],
   "metadata": {
    "collapsed": false,
    "pycharm": {
     "name": "#%%\n"
    }
   }
  },
  {
   "cell_type": "code",
   "execution_count": 44,
   "outputs": [
    {
     "data": {
      "text/plain": "False"
     },
     "execution_count": 44,
     "metadata": {},
     "output_type": "execute_result"
    }
   ],
   "source": [
    "lexicographic_closure_cnf(K, m/-b)"
   ],
   "metadata": {
    "collapsed": false,
    "pycharm": {
     "name": "#%%\n"
    }
   }
  },
  {
   "cell_type": "code",
   "execution_count": 44,
   "outputs": [],
   "source": [],
   "metadata": {
    "collapsed": false,
    "pycharm": {
     "name": "#%%\n"
    }
   }
  }
 ],
 "metadata": {
  "kernelspec": {
   "display_name": "Python 3",
   "language": "python",
   "name": "python3"
  },
  "language_info": {
   "codemirror_mode": {
    "name": "ipython",
    "version": 2
   },
   "file_extension": ".py",
   "mimetype": "text/x-python",
   "name": "python",
   "nbconvert_exporter": "python",
   "pygments_lexer": "ipython2",
   "version": "2.7.6"
  }
 },
 "nbformat": 4,
 "nbformat_minor": 0
}