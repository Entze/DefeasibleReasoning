{
 "cells": [
  {
   "cell_type": "code",
   "execution_count": 1,
   "outputs": [],
   "source": [
    "import os\n",
    "import sys\n",
    "\n",
    "\n",
    "sys.path.append(os.path.join('..', 'common'))\n",
    "\n",
    "from ranked_models import statement_ranking\n",
    "from util import entails, print_knowledge_base, materialized\n",
    "\n",
    "from itertools import combinations\n",
    "\n",
    "from datatypes import Formula, Bot, Top, KnowledgeBase, Normally, Literal, Atom\n",
    "from typing import Set\n"
   ],
   "metadata": {
    "collapsed": false,
    "pycharm": {
     "name": "#%%\n"
    }
   }
  },
  {
   "cell_type": "code",
   "execution_count": 2,
   "outputs": [],
   "source": [
    "bot = Bot()            # Falsum\n",
    "top = Top()            # Verum\n",
    "m = Literal(Atom('m')) # mamalian red blood cells\n",
    "v = Literal(Atom('v')) # vertebrate red blood cells\n",
    "a = Literal(Atom('a')) # avian red blood cells\n",
    "c = Literal(Atom('c')) # cell membrane\n",
    "n = Literal(Atom('n')) # nucleus\n",
    "s = Literal(Atom('s')) # mammalian sickle cells\n",
    "b = Literal(Atom('b')) # bioconcave shape"
   ],
   "metadata": {
    "collapsed": false,
    "pycharm": {
     "name": "#%%\n"
    }
   }
  },
  {
   "cell_type": "code",
   "execution_count": 3,
   "outputs": [],
   "source": [
    "def weaken_to_dnf(formulas: Set[Formula], by=0) -> Set[Formula]:\n",
    "    if by <= 0:\n",
    "        return formulas\n",
    "    elif by >= len(formulas):\n",
    "        return {Formula(Top())}\n",
    "    disjuncts = combinations(formulas, by)\n",
    "    formula = Bot()\n",
    "    for disjunct in disjuncts:\n",
    "        inner_formula = Top()\n",
    "        for d in disjunct:\n",
    "            inner_formula = inner_formula & d\n",
    "        formula = formula | inner_formula\n",
    "    return {formula}\n"
   ],
   "metadata": {
    "collapsed": false,
    "pycharm": {
     "name": "#%%\n"
    }
   }
  },
  {
   "cell_type": "code",
   "execution_count": 4,
   "outputs": [],
   "source": [
    "def weaken_to_cnf(formulas: Set[Formula], to=0) -> Set[Formula]:\n",
    "    if to <= 0:\n",
    "        return formulas\n",
    "    elif to > len(formulas):\n",
    "        return {Formula(Top())}\n",
    "    conjuncts = combinations(formulas, to)\n",
    "    formulas = set()\n",
    "    for conjunct in conjuncts:\n",
    "        formula = Bot()\n",
    "        for c in conjunct:\n",
    "            formula = formula | c\n",
    "        formulas.add(formula)\n",
    "    return formulas"
   ],
   "metadata": {
    "collapsed": false,
    "pycharm": {
     "name": "#%%\n"
    }
   }
  },
  {
   "cell_type": "code",
   "execution_count": 5,
   "outputs": [
    {
     "name": "stdout",
     "output_type": "stream",
     "text": [
      "{ m → v, s |~ ¬b, v |~ c, v |~ n, s → m, m |~ b, a → v, m |~ ¬n }\n"
     ]
    }
   ],
   "source": [
    "\n",
    "K={-(m >> v) / bot, -(a >> v) / bot, v / c, v / n, m / -n, -(s >> m) / bot, m / b, s / -b}\n",
    "rank = statement_ranking(K)\n",
    "print_knowledge_base(K)"
   ],
   "metadata": {
    "collapsed": false,
    "pycharm": {
     "name": "#%%\n"
    }
   }
  },
  {
   "cell_type": "code",
   "execution_count": 6,
   "outputs": [
    {
     "name": "stdout",
     "output_type": "stream",
     "text": [
      "{v → n, v → c}\n",
      "{v → n ∨ v → c}\n",
      "{⊤}\n"
     ]
    }
   ],
   "source": [
    "r0 = materialized(rank[0])\n",
    "print(weaken_to_dnf(r0, 0))\n",
    "print(weaken_to_dnf(r0, 1))\n",
    "print(weaken_to_dnf(r0, 2))"
   ],
   "metadata": {
    "collapsed": false,
    "pycharm": {
     "name": "#%%\n"
    }
   }
  },
  {
   "cell_type": "code",
   "execution_count": 7,
   "outputs": [
    {
     "name": "stdout",
     "output_type": "stream",
     "text": [
      "{v → n ∨ v → c}\n",
      "{v → n, v → c}\n",
      "{v → n, v → c}\n"
     ]
    }
   ],
   "source": [
    "print(weaken_to_cnf(r0, 2))\n",
    "print(weaken_to_cnf(r0, 1))\n",
    "print(weaken_to_cnf(r0, 0))"
   ],
   "metadata": {
    "collapsed": false,
    "pycharm": {
     "name": "#%%\n"
    }
   }
  },
  {
   "cell_type": "code",
   "execution_count": 8,
   "outputs": [
    {
     "name": "stdout",
     "output_type": "stream",
     "text": [
      "{m → v ∨ a → v ∨ s → m}\n",
      "{m → v ∨ a → v, a → v ∨ s → m, m → v ∨ s → m}\n",
      "{m → v, a → v, s → m}\n",
      "{m → v, a → v, s → m}\n"
     ]
    }
   ],
   "source": [
    "rinf = materialized(rank[float('inf')])\n",
    "print(weaken_to_cnf(rinf, 3))\n",
    "print(weaken_to_cnf(rinf, 2))\n",
    "print(weaken_to_cnf(rinf, 1))\n",
    "print(weaken_to_cnf(rinf, 0))"
   ],
   "metadata": {
    "collapsed": false,
    "pycharm": {
     "name": "#%%\n"
    }
   }
  },
  {
   "cell_type": "code",
   "execution_count": 8,
   "outputs": [],
   "source": [],
   "metadata": {
    "collapsed": false,
    "pycharm": {
     "name": "#%%\n"
    }
   }
  },
  {
   "cell_type": "code",
   "execution_count": 9,
   "outputs": [],
   "source": [
    "def lexicographic_closure_dnf(knowledge_base: KnowledgeBase, statement: Normally):\n",
    "    rank = statement_ranking(knowledge_base)\n",
    "    i = 0\n",
    "    r = len(rank) - (float('inf') in rank)\n",
    "    if r == 0:\n",
    "        t = materialized(rank[float('inf')])\n",
    "        rki = -Top() / Bot()\n",
    "    else:\n",
    "        while True:\n",
    "            t = materialized({statement for k in (*range(i+1, r), float('inf')) for statement in rank[k]})\n",
    "            j = 0\n",
    "            n = len(rank[i])\n",
    "            while True:\n",
    "                rki = weaken_to_dnf(materialized(rank[i]), j)\n",
    "                j+=1\n",
    "                if j > n or not entails(t | rki, -statement.left):\n",
    "                    break\n",
    "            i += 1\n",
    "            if i >= r or not entails(t | rki, -statement.left):\n",
    "               break\n",
    "    return entails(t | rki, statement.materialize())\n"
   ],
   "metadata": {
    "collapsed": false,
    "pycharm": {
     "name": "#%%\n"
    }
   }
  },
  {
   "cell_type": "code",
   "execution_count": 10,
   "outputs": [
    {
     "data": {
      "text/plain": "True"
     },
     "execution_count": 10,
     "metadata": {},
     "output_type": "execute_result"
    }
   ],
   "source": [
    "lexicographic_closure_dnf(K, s / -n)"
   ],
   "metadata": {
    "collapsed": false,
    "pycharm": {
     "name": "#%%\n"
    }
   }
  },
  {
   "cell_type": "code",
   "execution_count": 11,
   "outputs": [
    {
     "data": {
      "text/plain": "False"
     },
     "execution_count": 11,
     "metadata": {},
     "output_type": "execute_result"
    }
   ],
   "source": [
    "lexicographic_closure_dnf(K, m / -b)"
   ],
   "metadata": {
    "collapsed": false,
    "pycharm": {
     "name": "#%%\n"
    }
   }
  },
  {
   "cell_type": "code",
   "execution_count": 12,
   "outputs": [],
   "source": [
    "def lexicographic_closure_cnf(knowledge_base: KnowledgeBase, statement: Normally):\n",
    "    rank = statement_ranking(knowledge_base)\n",
    "    i = 0\n",
    "    r = len(rank) - (float('inf') in rank)\n",
    "    if r == 0:\n",
    "        t = materialized(rank[float('inf')])\n",
    "        rki = -Top() / Bot()\n",
    "    else:\n",
    "        while True:\n",
    "            t = materialized({statement for k in (*range(i+1, r), float('inf')) for statement in rank[k]})\n",
    "            j = 0\n",
    "            n = len(rank[i])\n",
    "            while True:\n",
    "                rki = weaken_to_cnf(materialized(rank[i]), j+1)\n",
    "                j+=1\n",
    "                if j > n or not entails(t | rki, -statement.left):\n",
    "                    break\n",
    "            i += 1\n",
    "            if i >= r or not entails(t | rki, -statement.left):\n",
    "               break\n",
    "    return entails(t | rki, statement.materialize())\n"
   ],
   "metadata": {
    "collapsed": false,
    "pycharm": {
     "name": "#%%\n"
    }
   }
  },
  {
   "cell_type": "code",
   "execution_count": 13,
   "outputs": [
    {
     "data": {
      "text/plain": "True"
     },
     "execution_count": 13,
     "metadata": {},
     "output_type": "execute_result"
    }
   ],
   "source": [
    "lexicographic_closure_cnf(K, s/-n)"
   ],
   "metadata": {
    "collapsed": false,
    "pycharm": {
     "name": "#%%\n"
    }
   }
  },
  {
   "cell_type": "code",
   "execution_count": 14,
   "outputs": [
    {
     "data": {
      "text/plain": "False"
     },
     "execution_count": 14,
     "metadata": {},
     "output_type": "execute_result"
    }
   ],
   "source": [
    "lexicographic_closure_cnf(K, m/-b)"
   ],
   "metadata": {
    "collapsed": false,
    "pycharm": {
     "name": "#%%\n"
    }
   }
  },
  {
   "cell_type": "code",
   "execution_count": 14,
   "outputs": [],
   "source": [],
   "metadata": {
    "collapsed": false,
    "pycharm": {
     "name": "#%%\n"
    }
   }
  }
 ],
 "metadata": {
  "kernelspec": {
   "display_name": "Python 3",
   "language": "python",
   "name": "python3"
  },
  "language_info": {
   "codemirror_mode": {
    "name": "ipython",
    "version": 2
   },
   "file_extension": ".py",
   "mimetype": "text/x-python",
   "name": "python",
   "nbconvert_exporter": "python",
   "pygments_lexer": "ipython2",
   "version": "2.7.6"
  }
 },
 "nbformat": 4,
 "nbformat_minor": 0
}