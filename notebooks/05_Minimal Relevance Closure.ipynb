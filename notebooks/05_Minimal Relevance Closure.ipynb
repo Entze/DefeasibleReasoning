{
 "cells": [
  {
   "cell_type": "markdown",
   "source": [
    "# 05 Minimal Relevance Closure\n",
    "\n",
    "This notebook defines a method to calculate if a statement (a twiddle statement) is entailed by the minimal relevance closure of a knowledge base."
   ],
   "metadata": {
    "collapsed": false,
    "pycharm": {
     "name": "#%% md\n"
    }
   }
  },
  {
   "cell_type": "code",
   "execution_count": 15,
   "outputs": [],
   "source": [
    "import os\n",
    "import sys\n",
    "sys.path.append(os.path.join('..', 'common'))\n",
    "\n",
    "from datatypes import KnowledgeBase, Literal, Atom, Top, Bot, Normally, Formula\n",
    "from util import materialized, print_knowledge_base, entails\n",
    "from justifications import justifications, separate\n",
    "from ranked_models import statement_ranking"
   ],
   "metadata": {
    "collapsed": false,
    "pycharm": {
     "name": "#%%\n"
    }
   }
  },
  {
   "cell_type": "code",
   "execution_count": 16,
   "outputs": [],
   "source": [
    "bot = Bot()            # Falsum\n",
    "top = Top()            # Verum\n",
    "m = Literal(Atom('m')) # mamalian red blood cells\n",
    "v = Literal(Atom('v')) # vertebrate red blood cells\n",
    "a = Literal(Atom('a')) # avian red blood cells\n",
    "c = Literal(Atom('c')) # cell membrane\n",
    "n = Literal(Atom('n')) # nucleus\n",
    "s = Literal(Atom('s')) # mammalian sickle cells\n",
    "b = Literal(Atom('b')) # bioconcave shape"
   ],
   "metadata": {
    "collapsed": false,
    "pycharm": {
     "name": "#%%\n"
    }
   }
  },
  {
   "cell_type": "markdown",
   "source": [
    "We deploy the same justification algorithm, however it is omitted here.\n",
    "\n",
    "Instead of deleting all statements in the justifications, we only delete one (the minimum accoring to the statement rank) per each justification."
   ],
   "metadata": {
    "collapsed": false,
    "pycharm": {
     "name": "#%% md\n"
    }
   }
  },
  {
   "cell_type": "code",
   "execution_count": 17,
   "outputs": [],
   "source": [
    "def minimal_relevance_closure(knowledge_base: KnowledgeBase, statement: Normally) -> bool:\n",
    "    rank = statement_ranking(knowledge_base)\n",
    "    inverse_rank = {s:k for k,v in rank.items() for s in v}\n",
    "    i = 0\n",
    "    T, D = separate(knowledge_base)\n",
    "    J = justifications(T, D, statement.left)\n",
    "    Rel = {min(js, key=inverse_rank.get) for js in J}\n",
    "    Irr = D - Rel\n",
    "    R_ = materialized(Rel)\n",
    "    while R_ and entails(materialized(T) | materialized(Irr) | R_, -statement.left):\n",
    "        R_ = R_ - materialized(rank[i] & Rel)\n",
    "        i += 1\n",
    "    return entails(materialized(T) | materialized(Irr) | R_, statement.materialize())"
   ],
   "metadata": {
    "collapsed": false,
    "pycharm": {
     "name": "#%%\n"
    }
   }
  },
  {
   "cell_type": "code",
   "execution_count": 18,
   "outputs": [
    {
     "name": "stdout",
     "output_type": "stream",
     "text": [
      "{ m |~ b, a → v, m |~ ¬n, s |~ ¬b, m → v, v |~ c, s → m, v |~ n }\n"
     ]
    }
   ],
   "source": [
    "K={-(m >> v) / bot, -(a >> v) / bot, v / c, v / n, m / -n, -(s >> m) / bot, m / b, s / -b}\n",
    "T, D = separate(K)\n",
    "rank = statement_ranking(K)\n",
    "inverse_rank = {s:k for k,v in rank.items() for s in v}\n",
    "print_knowledge_base(K)"
   ],
   "metadata": {
    "collapsed": false,
    "pycharm": {
     "name": "#%%\n"
    }
   }
  },
  {
   "cell_type": "code",
   "execution_count": 19,
   "outputs": [
    {
     "data": {
      "text/plain": "{m |~ b, v |~ n}"
     },
     "execution_count": 19,
     "metadata": {},
     "output_type": "execute_result"
    }
   ],
   "source": [
    "J = justifications(T, D, Formula(s))\n",
    "Rel = {min(js, key=inverse_rank.get) for js in J}\n",
    "Rel"
   ],
   "metadata": {
    "collapsed": false,
    "pycharm": {
     "name": "#%%\n"
    }
   }
  },
  {
   "cell_type": "code",
   "execution_count": 20,
   "outputs": [
    {
     "data": {
      "text/plain": "True"
     },
     "execution_count": 20,
     "metadata": {},
     "output_type": "execute_result"
    }
   ],
   "source": [
    "minimal_relevance_closure(K, s / -n)"
   ],
   "metadata": {
    "collapsed": false,
    "pycharm": {
     "name": "#%%\n"
    }
   }
  },
  {
   "cell_type": "code",
   "execution_count": 20,
   "outputs": [],
   "source": [],
   "metadata": {
    "collapsed": false,
    "pycharm": {
     "name": "#%%\n"
    }
   }
  }
 ],
 "metadata": {
  "kernelspec": {
   "display_name": "Python 3",
   "language": "python",
   "name": "python3"
  },
  "language_info": {
   "codemirror_mode": {
    "name": "ipython",
    "version": 2
   },
   "file_extension": ".py",
   "mimetype": "text/x-python",
   "name": "python",
   "nbconvert_exporter": "python",
   "pygments_lexer": "ipython2",
   "version": "2.7.6"
  }
 },
 "nbformat": 4,
 "nbformat_minor": 0
}