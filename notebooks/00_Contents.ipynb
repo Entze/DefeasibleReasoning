{
 "cells": [
  {
   "cell_type": "markdown",
   "source": [
    "# Defeasible Reasoning Methods implemented in Python\n",
    "\n",
    "This is a series of notebooks showing one possible way of implementing algorithms for Rational Closure, Relevance Closure and Lexicographic Closure.\n",
    "\n",
    "The notebooks are divided into their smallest respective parts:\n",
    "\n",
    "1. [Datastructures](\"notebooks/01_Datastructures.ipynb\")\n",
    "    + Classes and methods used for all other notebooks.\n",
    "2. [Ranked Interpretations](\"notebooks/02_Ranked Interpretations.ipynb\")\n",
    "    + Algorithms for computing the minimal valuation ranking and the statement ranking\n",
    "3. [Rational Closure](\"notebooks/03_Rational Closure.ipynb\")\n",
    "    + Algorithm to compute if a statement is in the rational closure of a knowledge base.\n",
    "4. [Basic Relevance Closure](\"notebooks/04_Basic Relevance Closure.ipynb\")\n",
    "    + Algorithms to compute the $\\alpha$-justifications of a formula in respect to a knowledge base, and if a statement is in the basic relevance closure of a knowledge base.\n",
    "5. [Minimal Relevance Closure](\"notebooks/05_Minimal Relevance Closure.ipynb\")\n",
    "    + Algorithm to compute if a formula is in the minimal relevance closure of a knowledge base.\n",
    "6. [Lexicographic Closure](\"notebooks/06_Lexicographic Closure.ipynb\")\n",
    "    + Algorithms to compute if a formula is in the lexicographic relevance closure of a knowledge base. Both versions (CNF and DNF) are included.\n",
    "\n",
    "## Missing:\n",
    "What we could not yet explore is how to update the knowledge base according to the revision operator. We hope to define notebooks for that in the future.\n",
    "- Iterative revision\n",
    "- [Admissable revision](https://arxiv.org/abs/1109.6344)\n",
    "- [Situated conditional revision](https://arxiv.org/pdf/2109.01552.pdf)"
   ],
   "metadata": {
    "collapsed": false,
    "pycharm": {
     "name": "#%% md\n"
    }
   }
  },
  {
   "cell_type": "code",
   "execution_count": null,
   "outputs": [],
   "source": [],
   "metadata": {
    "collapsed": false,
    "pycharm": {
     "name": "#%%\n"
    }
   }
  }
 ],
 "metadata": {
  "kernelspec": {
   "display_name": "Python 3 (ipykernel)",
   "language": "python",
   "name": "python3"
  },
  "language_info": {
   "codemirror_mode": {
    "name": "ipython",
    "version": 3
   },
   "file_extension": ".py",
   "mimetype": "text/x-python",
   "name": "python",
   "nbconvert_exporter": "python",
   "pygments_lexer": "ipython3",
   "version": "3.10.5"
  }
 },
 "nbformat": 4,
 "nbformat_minor": 5
}