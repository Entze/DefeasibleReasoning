{
 "cells": [
  {
   "cell_type": "markdown",
   "id": "60747fd5",
   "metadata": {
    "pycharm": {
     "name": "#%% md\n"
    },
    "tags": []
   },
   "source": [
    "# Defeasible Reasoning Methods implemented in Python\n",
    "\n",
    "This is a series of notebooks showing one possible way of implementing algorithms for Rational Closure, Relevance Closure and Lexicographic Closure.\n",
    "\n",
    "The notebooks are divided into their smallest respective parts:\n",
    "\n",
    "1. [Datastructures](01_Datastructures.ipynb)\n",
    "    + Classes and methods used for all other notebooks.\n",
    "2. [Ranked Interpretations](02_Ranked_Interpretations.ipynb)\n",
    "    + Algorithms for computing the minimal valuation ranking and the statement ranking\n",
    "3. [Rational Closure](03_Rational_Closure.ipynb)\n",
    "    + Algorithm to compute if a statement is in the rational closure of a knowledge base.\n",
    "4. [Basic Relevance Closure](04_Basic_Relevance_Closure.ipynb)\n",
    "    + Algorithms to compute the $\\alpha$-justifications of a formula in respect to a knowledge base, and if a statement is in the basic relevance closure of a knowledge base.\n",
    "5. [Minimal Relevance Closure](05_Minimal_Relevance_Closure.ipynb)\n",
    "    + Algorithm to compute if a formula is in the minimal relevance closure of a knowledge base.\n",
    "6. [Lexicographic Closure](06_Lexicographic_Closure.ipynb)\n",
    "    + Algorithms to compute if a formula is in the lexicographic relevance closure of a knowledge base. Both versions (CNF and DNF) are included.\n",
    "\n",
    "## Missing:\n",
    "What we could not yet explore is how to update the knowledge base according to the revision operator. We hope to define notebooks for that in the future.\n",
    "- Iterative revision\n",
    "- [Admissible and Restrained Revision](https://arxiv.org/abs/1109.6344)\n",
    "- [Situated conditional revision](https://arxiv.org/pdf/2109.01552.pdf)\n",
    "- [Revision by Conditionals: From Hook to Arrow](https://arxiv.org/abs/2006.15811)"
   ]
  },
  {
   "cell_type": "code",
   "execution_count": null,
   "id": "d4113014",
   "metadata": {
    "collapsed": false,
    "jupyter": {
     "outputs_hidden": false
    },
    "pycharm": {
     "name": "#%%\n"
    }
   },
   "outputs": [],
   "source": []
  }
 ],
 "metadata": {
  "kernelspec": {
   "display_name": "Python 3 (ipykernel)",
   "language": "python",
   "name": "python3"
  },
  "language_info": {
   "codemirror_mode": {
    "name": "ipython",
    "version": 3
   },
   "file_extension": ".py",
   "mimetype": "text/x-python",
   "name": "python",
   "nbconvert_exporter": "python",
   "pygments_lexer": "ipython3",
   "version": "3.8.13"
  }
 },
 "nbformat": 4,
 "nbformat_minor": 5
}
