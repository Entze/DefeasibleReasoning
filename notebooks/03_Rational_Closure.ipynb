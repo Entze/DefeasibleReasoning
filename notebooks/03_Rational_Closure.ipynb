{
 "cells": [
  {
   "cell_type": "markdown",
   "id": "88961867",
   "metadata": {
    "pycharm": {
     "name": "#%% md\n"
    }
   },
   "source": [
    "# 03 Rational Closure\n",
    "\n",
    "This notebook defines a method to calculate if a statement (a twiddle statement) is entailed by the rational closure of a knowledge base."
   ]
  },
  {
   "cell_type": "code",
   "execution_count": 1,
   "id": "848a984d",
   "metadata": {
    "collapsed": false,
    "jupyter": {
     "outputs_hidden": false
    },
    "pycharm": {
     "name": "#%%\n"
    }
   },
   "outputs": [],
   "source": [
    "import os\n",
    "import sys\n",
    "\n",
    "\n",
    "sys.path.append(os.path.join('..', 'common'))\n",
    "\n",
    "from datatypes import KnowledgeBase, Literal, Atom, Top, Bot, Normally\n",
    "from util import materialized, print_knowledge_base, entails\n",
    "from ranked_models import statement_ranking, print_statement_ranking"
   ]
  },
  {
   "cell_type": "code",
   "execution_count": 2,
   "id": "7c8a0375",
   "metadata": {
    "collapsed": false,
    "jupyter": {
     "outputs_hidden": false
    },
    "pycharm": {
     "name": "#%%\n"
    }
   },
   "outputs": [],
   "source": [
    "f = Literal(Atom('f')) # flies\n",
    "b = Literal(Atom('b')) # is a bird\n",
    "r = Literal(Atom('r')) # is a robin\n",
    "p = Literal(Atom('p')) # is a pengiun\n",
    "w = Literal(Atom('w')) # has wings\n",
    "bot = Bot()            # Falsum\n",
    "top = Top()            # Verum"
   ]
  },
  {
   "cell_type": "code",
   "execution_count": 3,
   "id": "4b5abb2d",
   "metadata": {
    "collapsed": false,
    "jupyter": {
     "outputs_hidden": false
    },
    "pycharm": {
     "name": "#%%\n"
    }
   },
   "outputs": [],
   "source": [
    "def minimal_ranked_entailment(knowledge_base: KnowledgeBase, statement: Normally):\n",
    "    rank = statement_ranking(knowledge_base)\n",
    "    r = len(rank) - (float('inf') in rank.keys())\n",
    "    i = 0\n",
    "    antecedent = statement.left\n",
    "    while i < r:\n",
    "        partial_knowledge_base = {statement.materialize() for j in range(i,r) for statement in rank[j]} | materialized(rank.get(float('inf'), set()))\n",
    "        if not entails(partial_knowledge_base, -antecedent):\n",
    "            break\n",
    "        i += 1\n",
    "    partial_knowledge_base = {statement.materialize() for j in range(i,r) for statement in rank[j]} | materialized(rank.get(float('inf'), set()))\n",
    "    return entails(partial_knowledge_base, statement.materialize())"
   ]
  },
  {
   "cell_type": "markdown",
   "id": "3f44a293",
   "metadata": {
    "pycharm": {
     "name": "#%% md\n"
    }
   },
   "source": [
    "We've also prepared the examples from the slides:"
   ]
  },
  {
   "cell_type": "code",
   "execution_count": 4,
   "id": "aaf6e803",
   "metadata": {
    "collapsed": false,
    "jupyter": {
     "outputs_hidden": false
    },
    "pycharm": {
     "name": "#%%\n"
    }
   },
   "outputs": [
    {
     "name": "stdout",
     "output_type": "stream",
     "text": [
      "{ b |~ f, p |~ b }\n"
     ]
    }
   ],
   "source": [
    "K = {b / f, p / b}\n",
    "print_knowledge_base(K)"
   ]
  },
  {
   "cell_type": "code",
   "execution_count": 5,
   "id": "89ad66e5",
   "metadata": {
    "collapsed": false,
    "jupyter": {
     "outputs_hidden": false
    },
    "pycharm": {
     "name": "#%%\n"
    }
   },
   "outputs": [
    {
     "data": {
      "text/plain": [
       "True"
      ]
     },
     "execution_count": 5,
     "metadata": {},
     "output_type": "execute_result"
    }
   ],
   "source": [
    "minimal_ranked_entailment(K, p / f)"
   ]
  },
  {
   "cell_type": "code",
   "execution_count": 6,
   "id": "4dc25405",
   "metadata": {
    "collapsed": false,
    "jupyter": {
     "outputs_hidden": false
    },
    "pycharm": {
     "name": "#%%\n"
    }
   },
   "outputs": [
    {
     "name": "stdout",
     "output_type": "stream",
     "text": [
      "{ b |~ f, p → b }\n"
     ]
    }
   ],
   "source": [
    "K = {b / f, -(p >> b) / bot}\n",
    "print_knowledge_base(K)"
   ]
  },
  {
   "cell_type": "code",
   "execution_count": 7,
   "id": "98364485",
   "metadata": {
    "collapsed": false,
    "jupyter": {
     "outputs_hidden": false
    },
    "pycharm": {
     "name": "#%%\n"
    }
   },
   "outputs": [
    {
     "data": {
      "text/plain": [
       "True"
      ]
     },
     "execution_count": 7,
     "metadata": {},
     "output_type": "execute_result"
    }
   ],
   "source": [
    "minimal_ranked_entailment(K, p / f)"
   ]
  },
  {
   "cell_type": "code",
   "execution_count": 8,
   "id": "b4b10cc0",
   "metadata": {
    "collapsed": false,
    "jupyter": {
     "outputs_hidden": false
    },
    "pycharm": {
     "name": "#%%\n"
    }
   },
   "outputs": [
    {
     "name": "stdout",
     "output_type": "stream",
     "text": [
      "{ b |~ f, p |~ ¬f, p → b }\n"
     ]
    }
   ],
   "source": [
    "K = {b / f, -(p >> b) / bot, p / -f}\n",
    "print_knowledge_base(K)"
   ]
  },
  {
   "cell_type": "code",
   "execution_count": 9,
   "id": "927fd775",
   "metadata": {
    "collapsed": false,
    "jupyter": {
     "outputs_hidden": false
    },
    "pycharm": {
     "name": "#%%\n"
    }
   },
   "outputs": [
    {
     "data": {
      "text/plain": [
       "False"
      ]
     },
     "execution_count": 9,
     "metadata": {},
     "output_type": "execute_result"
    }
   ],
   "source": [
    "minimal_ranked_entailment(K, p/f)"
   ]
  },
  {
   "cell_type": "code",
   "execution_count": 10,
   "id": "cbf6b5af",
   "metadata": {
    "collapsed": false,
    "jupyter": {
     "outputs_hidden": false
    },
    "pycharm": {
     "name": "#%%\n"
    }
   },
   "outputs": [
    {
     "name": "stdout",
     "output_type": "stream",
     "text": [
      "{ r → b, p |~ ¬f, p → b, b |~ f, b |~ w }\n"
     ]
    }
   ],
   "source": [
    "K = {b / f, -(p >> b) / bot,-(r >> b) / bot, b/w, p / -f}\n",
    "print_knowledge_base(K)"
   ]
  },
  {
   "cell_type": "code",
   "execution_count": 11,
   "id": "a2a5c473",
   "metadata": {
    "collapsed": false,
    "jupyter": {
     "outputs_hidden": false
    },
    "pycharm": {
     "name": "#%%\n"
    }
   },
   "outputs": [
    {
     "data": {
      "text/plain": [
       "True"
      ]
     },
     "execution_count": 11,
     "metadata": {},
     "output_type": "execute_result"
    }
   ],
   "source": [
    "minimal_ranked_entailment(K, r/w)"
   ]
  },
  {
   "cell_type": "code",
   "execution_count": 12,
   "id": "aad8bb8b",
   "metadata": {
    "collapsed": false,
    "jupyter": {
     "outputs_hidden": false
    },
    "pycharm": {
     "name": "#%%\n"
    }
   },
   "outputs": [
    {
     "data": {
      "text/plain": [
       "False"
      ]
     },
     "execution_count": 12,
     "metadata": {},
     "output_type": "execute_result"
    }
   ],
   "source": [
    "minimal_ranked_entailment(K, p/w)"
   ]
  },
  {
   "cell_type": "markdown",
   "id": "fbc1ba57",
   "metadata": {
    "pycharm": {
     "name": "#%% md\n"
    }
   },
   "source": [
    "This is the more advanced bloodcells example:"
   ]
  },
  {
   "cell_type": "code",
   "execution_count": 13,
   "id": "d558c0f0",
   "metadata": {
    "collapsed": false,
    "jupyter": {
     "outputs_hidden": false
    },
    "pycharm": {
     "name": "#%%\n"
    }
   },
   "outputs": [],
   "source": [
    "m = Literal(Atom('m')) # mamalian red blood cells\n",
    "v = Literal(Atom('v')) # vertebrate red blood cells\n",
    "a = Literal(Atom('a')) # avian red blood cells\n",
    "c = Literal(Atom('c')) # cell membrane\n",
    "n = Literal(Atom('n')) # nucleus"
   ]
  },
  {
   "cell_type": "code",
   "execution_count": 14,
   "id": "7f660b1b",
   "metadata": {
    "collapsed": false,
    "jupyter": {
     "outputs_hidden": false
    },
    "pycharm": {
     "name": "#%%\n"
    }
   },
   "outputs": [
    {
     "name": "stdout",
     "output_type": "stream",
     "text": [
      "{ m |~ ¬n, v |~ c, m → v, v |~ n, a → v }\n",
      "--------\n",
      "0: { v |~ n, v |~ c }\n",
      "1: { m |~ ¬n }\n",
      "∞: { a → v, m → v }\n"
     ]
    }
   ],
   "source": [
    "K = {-(m >> v) / bot, -(a >> v) / bot, v / c, v / n, m / -n}\n",
    "rank = statement_ranking(K)\n",
    "print_knowledge_base(K)\n",
    "print('-'*8)\n",
    "print_statement_ranking(rank)"
   ]
  },
  {
   "cell_type": "code",
   "execution_count": 15,
   "id": "f0b7de56",
   "metadata": {
    "collapsed": false,
    "jupyter": {
     "outputs_hidden": false
    },
    "pycharm": {
     "name": "#%%\n"
    }
   },
   "outputs": [
    {
     "data": {
      "text/plain": [
       "False"
      ]
     },
     "execution_count": 15,
     "metadata": {},
     "output_type": "execute_result"
    }
   ],
   "source": [
    "minimal_ranked_entailment(K, m/c)"
   ]
  },
  {
   "cell_type": "code",
   "execution_count": null,
   "id": "a53a98da",
   "metadata": {
    "collapsed": false,
    "jupyter": {
     "outputs_hidden": false
    },
    "pycharm": {
     "name": "#%%\n"
    }
   },
   "outputs": [],
   "source": []
  }
 ],
 "metadata": {
  "kernelspec": {
   "display_name": "Python 3 (ipykernel)",
   "language": "python",
   "name": "python3"
  },
  "language_info": {
   "codemirror_mode": {
    "name": "ipython",
    "version": 3
   },
   "file_extension": ".py",
   "mimetype": "text/x-python",
   "name": "python",
   "nbconvert_exporter": "python",
   "pygments_lexer": "ipython3",
   "version": "3.8.13"
  }
 },
 "nbformat": 4,
 "nbformat_minor": 5
}
