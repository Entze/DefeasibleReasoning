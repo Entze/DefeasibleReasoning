{
 "cells": [
  {
   "cell_type": "code",
   "execution_count": 34,
   "outputs": [],
   "source": [
    "from collections import defaultdict\n",
    "from dataclasses import dataclass, field\n",
    "from enum import IntEnum\n",
    "from typing import Mapping, Iterator\n",
    "from typing import TypeVar, Set, Union, Optional\n",
    "\n",
    "from more_itertools import powerset"
   ],
   "metadata": {
    "collapsed": false,
    "pycharm": {
     "name": "#%%\n"
    }
   }
  },
  {
   "cell_type": "code",
   "execution_count": 35,
   "outputs": [],
   "source": [
    "@dataclass(frozen=True, order=True)\n",
    "class Atom:\n",
    "    symbol: str\n",
    "\n",
    "    def __str__(self):\n",
    "        return self.symbol"
   ],
   "metadata": {
    "collapsed": false,
    "pycharm": {
     "name": "#%%\n"
    }
   }
  },
  {
   "cell_type": "code",
   "execution_count": 36,
   "outputs": [],
   "source": [
    "Alphabet = Set[Atom]\n",
    "Valuation = Mapping[Atom, bool]"
   ],
   "metadata": {
    "collapsed": false,
    "pycharm": {
     "name": "#%%\n"
    }
   }
  },
  {
   "cell_type": "code",
   "execution_count": 37,
   "outputs": [],
   "source": [
    "class Connective(IntEnum):\n",
    "    And = 0\n",
    "    Or = 1\n",
    "    Implies = 2\n",
    "\n",
    "    def __str__(self):\n",
    "        if self is Connective.And:\n",
    "            return \"∧\"\n",
    "        elif self is Connective.Or:\n",
    "            return \"∨\"\n",
    "        elif self is Connective.Implies:\n",
    "            return \"→\"\n",
    "        else:\n",
    "            assert False, \"Unhandled Connective.__str__: {} = {}\".format(self.name, self.value)\n",
    "\n",
    "    def evaluate(self, left: bool, right: bool):\n",
    "        if self is Connective.And:\n",
    "            return left and right\n",
    "        elif self is Connective.Or:\n",
    "            return left or right\n",
    "        elif self is Connective.Implies:\n",
    "            return not left or right\n",
    "        else:\n",
    "            assert False, \"Unhandled Connective.evaluate: {} = {}\".format(self.name, self.value)\n"
   ],
   "metadata": {
    "collapsed": false,
    "pycharm": {
     "name": "#%%\n"
    }
   }
  },
  {
   "cell_type": "code",
   "execution_count": 38,
   "outputs": [],
   "source": [
    "@dataclass(frozen=True, order=True)\n",
    "class Literal:\n",
    "    atom: Atom\n",
    "    sign: bool = field(default=True)\n",
    "\n",
    "    def __str__(self):\n",
    "        sign_str = \"\"\n",
    "        if not self.sign:\n",
    "            sign_str = \"¬\"\n",
    "        return \"{}{}\".format(sign_str, self.atom)\n",
    "\n",
    "    def __repr__(self):\n",
    "        return str(self)\n",
    "\n",
    "    def __neg__(self):\n",
    "        return Literal(self.atom, not self.sign)\n",
    "\n",
    "    def __and__(self, other):\n",
    "        left = Formula(self)\n",
    "        right = other\n",
    "        if isinstance(other, Literal):\n",
    "            right = Formula(right)\n",
    "        return Formula(left, Connective.And, right)\n",
    "\n",
    "    def __or__(self, other):\n",
    "        left = Formula(self)\n",
    "        right = other\n",
    "        if isinstance(other, Literal):\n",
    "            right = Formula(right)\n",
    "        return Formula(left, Connective.Or, right)\n",
    "\n",
    "    def __rshift__(self, other):\n",
    "        left = Formula(self)\n",
    "        right = other\n",
    "        if isinstance(other, Literal):\n",
    "            right = Formula(right)\n",
    "        return Formula(left, Connective.Implies, right)\n",
    "\n",
    "    def __truediv__(self, other):\n",
    "        left = Formula(self)\n",
    "        right = other\n",
    "        if isinstance(other, Literal):\n",
    "            right = Formula(other)\n",
    "        return Normally(left, right)"
   ],
   "metadata": {
    "collapsed": false,
    "pycharm": {
     "name": "#%%\n"
    }
   }
  },
  {
   "cell_type": "code",
   "execution_count": 39,
   "outputs": [],
   "source": [
    "@dataclass(frozen=True, order=True)\n",
    "class Top(Literal):\n",
    "    atom: Atom = field(default=Atom('⊤'), init=False)\n",
    "    sign: bool = field(default=True, init=False)\n",
    "\n",
    "    def __str__(self):\n",
    "        return str(self.atom)\n",
    "\n",
    "    def __repr__(self):\n",
    "        return str(self)\n",
    "\n",
    "    def __neg__(self):\n",
    "        return Bot()\n",
    "\n",
    "    def __and__(self, other):\n",
    "        if isinstance(other, Literal):\n",
    "            return Formula(other)\n",
    "        return other\n",
    "\n",
    "    def __or__(self, other):\n",
    "        return Formula(Top())\n"
   ],
   "metadata": {
    "collapsed": false,
    "pycharm": {
     "name": "#%%\n"
    }
   }
  },
  {
   "cell_type": "code",
   "execution_count": 40,
   "outputs": [],
   "source": [
    "@dataclass(frozen=True, order=True)\n",
    "class Bot(Literal):\n",
    "    atom: Atom = field(default=Atom('⊥'), init=False)\n",
    "    sign: bool = field(default=False, init=False)\n",
    "\n",
    "    def __neg__(self):\n",
    "        return Top()\n",
    "\n",
    "    def __str__(self):\n",
    "        return str(self.atom)\n",
    "\n",
    "    def __and__(self, other):\n",
    "        return Formula(Bot())\n",
    "\n",
    "    def __or__(self, other):\n",
    "        if isinstance(other, Literal):\n",
    "            return Formula(other)\n",
    "        return other"
   ],
   "metadata": {
    "collapsed": false,
    "pycharm": {
     "name": "#%%\n"
    }
   }
  },
  {
   "cell_type": "code",
   "execution_count": 41,
   "outputs": [],
   "source": [
    "ForwardFormula = TypeVar('ForwardFormula', bound='Formula')\n",
    "\n",
    "@dataclass(frozen=True, order=True)\n",
    "class Formula:\n",
    "    left: Union[ForwardFormula, Literal]\n",
    "    connective: Optional[Connective] = field(default=None)\n",
    "    right: Union[ForwardFormula, None] = field(default=None)\n",
    "\n",
    "    def __str__(self):\n",
    "        left_str = str(self.left)\n",
    "        connective_str = \"\"\n",
    "        if self.connective is not None:\n",
    "            connective_str = \" {}\".format(self.connective)\n",
    "        right_str = \"\"\n",
    "        if self.right is not None:\n",
    "            if self.right.left == Bot() and self.right.right is None:\n",
    "                left_str = \"¬({})\".format(left_str)\n",
    "                connective_str = \"\"\n",
    "            else:\n",
    "                right_str = \" {}\".format(self.right)\n",
    "        return \"{}{}{}\".format(left_str, connective_str, right_str)\n",
    "\n",
    "    def __repr__(self):\n",
    "        return str(self)\n",
    "\n",
    "    def evaluate(self, valuation: Valuation) -> bool:\n",
    "        if isinstance(self.left, Literal):\n",
    "            value_left = self.__evaluate_literal(self.left, valuation)\n",
    "        else:\n",
    "            assert isinstance(self.left, Formula), \"Unknown type for Formula.left. {}: {}\".format(\n",
    "                type(self.left).__name__, self.left)\n",
    "            value_left = self.left.evaluate(valuation)\n",
    "        if self.connective is not None and self.right is None:\n",
    "            raise TypeError(\"Formula.connective present, despite Formula.right missing.\")\n",
    "        elif self.connective is None and self.right is not None:\n",
    "            raise TypeError(\"Formula.connective missing, despite Formula.right present.\")\n",
    "\n",
    "        if self.connective is None and self.right is None:\n",
    "            return value_left\n",
    "        else:\n",
    "            assert isinstance(self.right, Formula), \"Unknown type for Formula.right. {}: {}\".format(\n",
    "                type(self.right).__name__, self.right)\n",
    "            value_right = self.right.evaluate(valuation)\n",
    "\n",
    "            return self.connective.evaluate(value_left, value_right)\n",
    "\n",
    "    def __evaluate_literal(self, literal: Literal, valuation: Valuation) -> bool:\n",
    "        if isinstance(literal, Top) or isinstance(literal, Bot):\n",
    "            return literal.sign\n",
    "        else:\n",
    "            # get assigned truth value of atom (per default false) and flip the result if negated\n",
    "            return bool(valuation.get(literal.atom, False) ^ (not literal.sign))\n",
    "\n",
    "    @property\n",
    "    def literals(self) -> Set[Literal]:\n",
    "        literals = set()\n",
    "        if isinstance(self.left, Literal):\n",
    "            if not isinstance(self.left, Top) and not isinstance(self.left, Bot):\n",
    "                literals.add(self.left)\n",
    "        else:\n",
    "            assert isinstance(self.left, Formula), \"Unknown type for Formula.right. {}: {}\".format(\n",
    "                type(self.left).__name__, self.left)\n",
    "            literals.update(self.left.literals)\n",
    "        if self.right is not None:\n",
    "            assert isinstance(self.right, Formula), \"Unknown type for Formula.right. {}: {}\".format(\n",
    "                type(self.right).__name__, self.right)\n",
    "            literals.update(self.right.literals)\n",
    "        return literals\n",
    "\n",
    "    @property\n",
    "    def atoms(self) -> Set[Atom]:\n",
    "        return {literal.atom for literal in self.literals}\n",
    "\n",
    "    def __neg__(self):\n",
    "        if self.connective is not None and self.right is None:\n",
    "            raise TypeError(\"Formula.connective present, despite Formula.right missing.\")\n",
    "        elif self.connective is None and self.right is not None:\n",
    "            raise TypeError(\"Formula.connective missing, despite Formula.right present.\")\n",
    "\n",
    "        if self.connective is None and self.right is None:\n",
    "            return Formula(-self.left)\n",
    "        elif self.connective is Connective.And:\n",
    "            return Formula(-self.left, Connective.Or, -self.right)\n",
    "        elif self.connective is Connective.Or:\n",
    "            return Formula(-self.left, Connective.And, -self.right)\n",
    "        elif self.connective is Connective.Implies:\n",
    "            if self.right.left == Bot() and self.right.right is None:\n",
    "                return self.left\n",
    "            return Formula(self, Connective.Implies, Formula(Bot()))\n",
    "        else:\n",
    "            assert False, \"Unknown Formula.connective. {} = {}.\".format(self.connective.name, self.connective.value)\n",
    "\n",
    "    def __and__(self, other):\n",
    "        left = self\n",
    "        right = other\n",
    "        if isinstance(other, Literal):\n",
    "            right = Formula(right)\n",
    "        return Formula(left, Connective.And, right)\n",
    "\n",
    "    def __or__(self, other):\n",
    "        left = self\n",
    "        right = other\n",
    "        if isinstance(other, Literal):\n",
    "            right = Formula(right)\n",
    "        return Formula(left, Connective.Or, right)\n",
    "\n",
    "    def __rshift__(self, other):\n",
    "        left = self\n",
    "        right = other\n",
    "        if isinstance(other, Literal):\n",
    "            right = Formula(right)\n",
    "        return Formula(left, Connective.Implies, right)\n",
    "\n",
    "    def __truediv__(self, other):\n",
    "        left = self\n",
    "        right = other\n",
    "        if isinstance(other, Literal):\n",
    "            right = Formula(other)\n",
    "        return Normally(left, right)\n",
    "\n",
    "    def __call__(self, valuation: Valuation) -> bool:\n",
    "        return self.evaluate(valuation)\n"
   ],
   "metadata": {
    "collapsed": false,
    "pycharm": {
     "name": "#%%\n"
    }
   }
  },
  {
   "cell_type": "code",
   "execution_count": 42,
   "outputs": [],
   "source": [
    "@dataclass(frozen=True, order=True)\n",
    "class Normally:\n",
    "    left: Formula\n",
    "    right: Formula\n",
    "\n",
    "    def __str__(self):\n",
    "        if self.right.left == Bot() and self.right.right is None and self.left.right.left == Bot() and self.left.right.right is None:\n",
    "            return str(self.left.left)\n",
    "        return \"{} |~ {}\".format(self.left, self.right)\n",
    "\n",
    "    def __repr__(self):\n",
    "        return str(self)\n",
    "\n",
    "    @property\n",
    "    def literals(self) -> Set[Literal]:\n",
    "        return {literal for formula in (self.left, self.right) for literal in formula.literals}\n",
    "\n",
    "    @property\n",
    "    def atoms(self) -> Set[Atom]:\n",
    "        return {atom for formula in (self.left, self.right) for atom in formula.atoms}\n",
    "\n",
    "    @property\n",
    "    def is_classical(self) -> bool:\n",
    "        return self.right.left == Bot() and self.right.right is None\n",
    "\n",
    "    def materialize(self):\n",
    "        if self.right.left == Bot() and self.right.right is None:\n",
    "            if self.left.right.left == Bot() and self.left.right.right is None:\n",
    "                return self.left.left\n",
    "            return -self.left\n",
    "        return self.left >> self.right\n"
   ],
   "metadata": {
    "collapsed": false,
    "pycharm": {
     "name": "#%%\n"
    }
   }
  },
  {
   "cell_type": "code",
   "execution_count": 43,
   "outputs": [],
   "source": [
    "KnowledgeBase = Set[Normally]"
   ],
   "metadata": {
    "collapsed": false,
    "pycharm": {
     "name": "#%%\n"
    }
   }
  },
  {
   "cell_type": "code",
   "execution_count": 44,
   "outputs": [],
   "source": [
    "def print_knowledge_base(knowledge_base: KnowledgeBase):\n",
    "    print(\"{\", ', '.join(map(str, knowledge_base)), \"}\")"
   ],
   "metadata": {
    "collapsed": false,
    "pycharm": {
     "name": "#%%\n"
    }
   }
  },
  {
   "cell_type": "code",
   "execution_count": 45,
   "outputs": [],
   "source": [
    "def all_valuations(alphabet: Alphabet, complete: bool = False) -> Iterator[Valuation]:\n",
    "    subsets = powerset(alphabet)\n",
    "    for subset in subsets:\n",
    "        valuation = defaultdict(lambda: False)\n",
    "        for atom in subset:\n",
    "            valuation[atom] = True\n",
    "        if complete:\n",
    "            for atom in alphabet:\n",
    "                if atom not in subset:\n",
    "                    valuation[atom] = False\n",
    "        yield valuation\n"
   ],
   "metadata": {
    "collapsed": false,
    "pycharm": {
     "name": "#%%\n"
    }
   }
  },
  {
   "cell_type": "code",
   "execution_count": 46,
   "outputs": [],
   "source": [
    "def print_valuation(valuation: Valuation, alphabet: Optional[Alphabet] = None):\n",
    "    trues = set()\n",
    "    falses = set()\n",
    "    for atom, value in valuation.items():\n",
    "        if value:\n",
    "            trues.add(atom)\n",
    "        else:\n",
    "            falses.add(atom)\n",
    "    if alphabet is not None:\n",
    "        falses.update(alphabet - trues)\n",
    "        alph_str_len = len(''.join(map(str, alphabet)))\n",
    "        pad = alph_str_len + len(alphabet) - 1\n",
    "    else:\n",
    "        alph_str_len = len(''.join(map(str, trues))) + len(''.join(map(str, falses)))\n",
    "        pad = alph_str_len + len(trues) + len(falses)\n",
    "\n",
    "    print(\"{\", ' '.join(map(str, trues)).ljust(pad), \"}\", \"{\", ' '.join(map(str, falses)).ljust(pad), \"}\")\n"
   ],
   "metadata": {
    "collapsed": false,
    "pycharm": {
     "name": "#%%\n"
    }
   }
  },
  {
   "cell_type": "code",
   "execution_count": 47,
   "outputs": [],
   "source": [
    "def models(formulas: Set[Formula], alphabet: Optional[Alphabet] = None) -> Iterator[Valuation]:\n",
    "    if alphabet is None:\n",
    "        alphabet = {atom for formula in formulas for atom in formula.atoms}\n",
    "    for valuation in all_valuations(alphabet):\n",
    "        if all(formula.evaluate(valuation) for formula in formulas):\n",
    "            yield valuation\n"
   ],
   "metadata": {
    "collapsed": false,
    "pycharm": {
     "name": "#%%\n"
    }
   }
  },
  {
   "cell_type": "code",
   "execution_count": 48,
   "outputs": [],
   "source": [
    "def sat(formulas: Set[Formula], alphabet: Optional[Alphabet] = None) -> bool:\n",
    "    model = next(models(formulas, alphabet), None)\n",
    "    return model is not None"
   ],
   "metadata": {
    "collapsed": false,
    "pycharm": {
     "name": "#%%\n"
    }
   }
  },
  {
   "cell_type": "code",
   "execution_count": 49,
   "outputs": [],
   "source": [
    "def unsat(formulas: Set[Formula], alphabet: Optional[Alphabet] = None) -> bool:\n",
    "    return not sat(formulas, alphabet)"
   ],
   "metadata": {
    "collapsed": false,
    "pycharm": {
     "name": "#%%\n"
    }
   }
  },
  {
   "cell_type": "code",
   "execution_count": 50,
   "outputs": [],
   "source": [
    "def entails(formulas: Set[Formula], formula: Formula) -> bool:\n",
    "    return unsat(formulas | {-formula})"
   ],
   "metadata": {
    "collapsed": false,
    "pycharm": {
     "name": "#%%\n"
    }
   }
  },
  {
   "cell_type": "code",
   "execution_count": 51,
   "outputs": [],
   "source": [
    "def valid(formulas: Set[Formula], alphabet: Optional[Alphabet] = None) -> bool:\n",
    "    if alphabet is None:\n",
    "        alphabet = {atom for formula in formulas for atom in formula.atoms}\n",
    "    for valuation in all_valuations(alphabet):\n",
    "        if any(not formula.evaluate(valuation) for formula in formulas):\n",
    "            return False\n",
    "    return True"
   ],
   "metadata": {
    "collapsed": false,
    "pycharm": {
     "name": "#%%\n"
    }
   }
  },
  {
   "cell_type": "code",
   "execution_count": 52,
   "outputs": [],
   "source": [
    "def materialized(knowledge_base: KnowledgeBase) -> Set[Formula]:\n",
    "    return {statement.materialize() for statement in knowledge_base}\n"
   ],
   "metadata": {
    "collapsed": false,
    "pycharm": {
     "name": "#%%\n"
    }
   }
  },
  {
   "cell_type": "code",
   "execution_count": 53,
   "id": "87e6031c-6439-4356-ae27-2dc1cca4f7ba",
   "metadata": {
    "pycharm": {
     "name": "#%%\n"
    }
   },
   "outputs": [],
   "source": [
    "f = Literal(Atom('f')) # flies\n",
    "b = Literal(Atom('b')) # is a bird\n",
    "p = Literal(Atom('p')) # is a pengiun\n",
    "w = Literal(Atom('w')) # has wings\n",
    "bot = Bot()            # Falsum\n",
    "top = Top()            # Verum"
   ]
  },
  {
   "cell_type": "code",
   "execution_count": 54,
   "id": "743199e8-b1a0-407b-a54b-b81609de2bee",
   "metadata": {
    "pycharm": {
     "name": "#%%\n"
    }
   },
   "outputs": [
    {
     "data": {
      "text/plain": "f"
     },
     "execution_count": 54,
     "metadata": {},
     "output_type": "execute_result"
    }
   ],
   "source": [
    "f # it flies"
   ]
  },
  {
   "cell_type": "code",
   "execution_count": 55,
   "id": "e30739e9-5a5b-4aca-b4e9-8e49a42c6e85",
   "metadata": {
    "pycharm": {
     "name": "#%%\n"
    }
   },
   "outputs": [
    {
     "data": {
      "text/plain": "¬f"
     },
     "execution_count": 55,
     "metadata": {},
     "output_type": "execute_result"
    }
   ],
   "source": [
    "-f # it does not fly"
   ]
  },
  {
   "cell_type": "code",
   "execution_count": 56,
   "id": "1fbf838f-f82d-4476-a1d5-bce2647860eb",
   "metadata": {
    "pycharm": {
     "name": "#%%\n"
    }
   },
   "outputs": [
    {
     "data": {
      "text/plain": "b → f"
     },
     "execution_count": 56,
     "metadata": {},
     "output_type": "execute_result"
    }
   ],
   "source": [
    "b >> f # birds fly"
   ]
  },
  {
   "cell_type": "code",
   "execution_count": 57,
   "id": "4b997952-3009-42df-8899-2606828120d3",
   "metadata": {
    "pycharm": {
     "name": "#%%\n"
    }
   },
   "outputs": [
    {
     "data": {
      "text/plain": "p → ¬f"
     },
     "execution_count": 57,
     "metadata": {},
     "output_type": "execute_result"
    }
   ],
   "source": [
    "p >> -f # pengiuns don't fly"
   ]
  },
  {
   "cell_type": "code",
   "execution_count": 58,
   "id": "9cd7331d-ae9a-4d1b-9496-c7ebd2594d2d",
   "metadata": {
    "pycharm": {
     "name": "#%%\n"
    }
   },
   "outputs": [
    {
     "data": {
      "text/plain": "p ∧ b → w"
     },
     "execution_count": 58,
     "metadata": {},
     "output_type": "execute_result"
    }
   ],
   "source": [
    "p & b >> w # given that it is a penguin and a bird, it has wings"
   ]
  },
  {
   "cell_type": "code",
   "execution_count": 59,
   "id": "b2fedfaa-d653-4b95-8ecd-9e87def4d1a3",
   "metadata": {
    "pycharm": {
     "name": "#%%\n"
    }
   },
   "outputs": [
    {
     "data": {
      "text/plain": "True"
     },
     "execution_count": 59,
     "metadata": {},
     "output_type": "execute_result"
    }
   ],
   "source": [
    "(p & b >> w)({p.atom: True, b.atom: True, w.atom: True}) # evaluate where pbw are true"
   ]
  },
  {
   "cell_type": "code",
   "execution_count": 60,
   "id": "a7d3b56b-8aa6-4e77-a9a8-dfe39a11373e",
   "metadata": {
    "pycharm": {
     "name": "#%%\n"
    }
   },
   "outputs": [
    {
     "data": {
      "text/plain": "False"
     },
     "execution_count": 60,
     "metadata": {},
     "output_type": "execute_result"
    }
   ],
   "source": [
    "(p & b >> w)({p.atom: True, b.atom: True, w.atom: False}) # evaluate where pb are true and w is false"
   ]
  },
  {
   "cell_type": "code",
   "execution_count": 61,
   "id": "9724834d-ae16-4028-99d1-2cb9e4581955",
   "metadata": {
    "pycharm": {
     "name": "#%%\n"
    }
   },
   "outputs": [
    {
     "data": {
      "text/plain": "p |~ ¬f"
     },
     "execution_count": 61,
     "metadata": {},
     "output_type": "execute_result"
    }
   ],
   "source": [
    "p / -f # penguins normally don't fly"
   ]
  },
  {
   "cell_type": "code",
   "execution_count": 62,
   "id": "9fd93bbc-efbd-4440-a60c-9bbe9c413ff2",
   "metadata": {
    "pycharm": {
     "name": "#%%\n"
    }
   },
   "outputs": [],
   "source": [
    "K = {((p >> b) >> Bot()) / Bot(), b / f, p / -f, b / w}"
   ]
  },
  {
   "cell_type": "code",
   "execution_count": 63,
   "id": "8072cb46-7cad-4b44-be7e-3a26fc7a2655",
   "metadata": {
    "pycharm": {
     "name": "#%%\n"
    }
   },
   "outputs": [
    {
     "name": "stdout",
     "output_type": "stream",
     "text": [
      "{ p |~ ¬f, p → b, b |~ w, b |~ f }\n"
     ]
    }
   ],
   "source": [
    "print_knowledge_base(K)"
   ]
  },
  {
   "cell_type": "code",
   "execution_count": 64,
   "id": "1664ad00-b79d-4acb-b19b-aefb0f886f5c",
   "metadata": {
    "pycharm": {
     "name": "#%%\n"
    }
   },
   "outputs": [
    {
     "name": "stdout",
     "output_type": "stream",
     "text": [
      "{       } { b p f }\n",
      "{ b     } { p f   }\n",
      "{ f     } { b p   }\n",
      "{ p     } { b f   }\n",
      "{ b f   } { p     }\n",
      "{ b p   } { f     }\n",
      "{ p f   } { b     }\n",
      "{ b p f } {       }\n"
     ]
    }
   ],
   "source": [
    "alph = {lit.atom for lit in (b, p, f)}\n",
    "tuple(print_valuation(valuation, alph) for valuation in all_valuations(alph));"
   ]
  },
  {
   "cell_type": "code",
   "execution_count": 65,
   "id": "73355838-4f30-40c4-a1df-459b26eae199",
   "metadata": {
    "pycharm": {
     "name": "#%%\n"
    }
   },
   "outputs": [
    {
     "name": "stdout",
     "output_type": "stream",
     "text": [
      "{       } { b p f }\n",
      "{ f     } { b p   }\n",
      "{ b f   } { p     }\n"
     ]
    }
   ],
   "source": [
    "tuple(print_valuation(model, alph) for model in models({p >> b, b >> f, p >> -f}));"
   ]
  },
  {
   "cell_type": "code",
   "execution_count": 66,
   "outputs": [
    {
     "data": {
      "text/plain": "{b → f, b → w, p → b, p → ¬f}"
     },
     "execution_count": 66,
     "metadata": {},
     "output_type": "execute_result"
    }
   ],
   "source": [
    "materialized(K)"
   ],
   "metadata": {
    "collapsed": false,
    "pycharm": {
     "name": "#%%\n"
    }
   }
  },
  {
   "cell_type": "code",
   "execution_count": 66,
   "id": "cb330772-618b-4672-b5d2-4cc09a68ba09",
   "metadata": {
    "pycharm": {
     "name": "#%%\n"
    }
   },
   "outputs": [],
   "source": []
  }
 ],
 "metadata": {
  "kernelspec": {
   "display_name": "Python 3 (ipykernel)",
   "language": "python",
   "name": "python3"
  },
  "language_info": {
   "codemirror_mode": {
    "name": "ipython",
    "version": 3
   },
   "file_extension": ".py",
   "mimetype": "text/x-python",
   "name": "python",
   "nbconvert_exporter": "python",
   "pygments_lexer": "ipython3",
   "version": "3.10.5"
  }
 },
 "nbformat": 4,
 "nbformat_minor": 5
}