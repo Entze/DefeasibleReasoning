{
 "cells": [
  {
   "cell_type": "markdown",
   "source": [
    "# 04 Basic Relevance Closure\n",
    "\n",
    "This notebook defines a method to calculate if a statement (a twiddle statement) is entailed by the basic relevance closure of a knowledge base."
   ],
   "metadata": {
    "collapsed": false,
    "pycharm": {
     "name": "#%% md\n"
    }
   }
  },
  {
   "cell_type": "code",
   "execution_count": 1,
   "metadata": {
    "pycharm": {
     "name": "#%%\n"
    },
    "tags": []
   },
   "outputs": [],
   "source": [
    "import os\n",
    "import sys\n",
    "from typing import Tuple, FrozenSet, Set\n",
    "\n",
    "from more_itertools import powerset\n",
    "\n",
    "sys.path.append(os.path.join('..', 'common'))\n",
    "\n",
    "from datatypes import KnowledgeBase, Literal, Atom, Top, Bot, Normally, Formula\n",
    "from util import materialized, print_knowledge_base, entails\n",
    "from ranked_models import statement_ranking"
   ]
  },
  {
   "cell_type": "code",
   "execution_count": 2,
   "outputs": [],
   "source": [
    "bot = Bot()            # Falsum\n",
    "top = Top()            # Verum\n",
    "m = Literal(Atom('m')) # mamalian red blood cells\n",
    "v = Literal(Atom('v')) # vertebrate red blood cells\n",
    "a = Literal(Atom('a')) # avian red blood cells\n",
    "c = Literal(Atom('c')) # cell membrane\n",
    "n = Literal(Atom('n')) # nucleus\n",
    "s = Literal(Atom('s')) # mammalian sickle cells\n",
    "b = Literal(Atom('b')) # bioconcave shape"
   ],
   "metadata": {
    "collapsed": false,
    "pycharm": {
     "name": "#%%\n"
    }
   }
  },
  {
   "cell_type": "markdown",
   "source": [
    "This algorithm uses the subroutine `justifications` to find the subset of defeasible statements that cause a statement to be false."
   ],
   "metadata": {
    "collapsed": false,
    "pycharm": {
     "name": "#%% md\n"
    }
   }
  },
  {
   "cell_type": "code",
   "execution_count": 3,
   "outputs": [],
   "source": [
    "def separate(knowledge_base: KnowledgeBase) -> Tuple[KnowledgeBase, KnowledgeBase]:\n",
    "    T = {statement for statement in knowledge_base if statement.is_classical}\n",
    "    return T, knowledge_base - T\n",
    "\n",
    "\n",
    "def justifications(classical_statements: KnowledgeBase, defeasible_statements: KnowledgeBase, formula: Formula) -> Set[\n",
    "    FrozenSet[Normally]]:\n",
    "    max_size = float('inf')\n",
    "    js = set()\n",
    "    for c in powerset(defeasible_statements):\n",
    "        if len(c) <= max_size:\n",
    "            candidate: FrozenSet[Formula] = set(c)\n",
    "            if entails(materialized(candidate | classical_statements), -formula):\n",
    "                if len(candidate) < max_size:\n",
    "                    js.clear()\n",
    "                max_size = len(candidate)\n",
    "                js.add(frozenset(candidate))\n",
    "\n",
    "    return js"
   ],
   "metadata": {
    "collapsed": false,
    "pycharm": {
     "name": "#%%\n"
    }
   }
  },
  {
   "cell_type": "markdown",
   "source": [
    "Basic relevance closure uses the union of the justifications and removes all statements (level by level) that are included in the union."
   ],
   "metadata": {
    "collapsed": false,
    "pycharm": {
     "name": "#%% md\n"
    }
   }
  },
  {
   "cell_type": "code",
   "execution_count": 4,
   "outputs": [],
   "source": [
    "def basic_relevance_closure(knowledge_base: KnowledgeBase, statement: Normally) -> bool:\n",
    "    rank = statement_ranking(knowledge_base)\n",
    "    i = 0\n",
    "    T, D = separate(knowledge_base)\n",
    "    Rel = {j for justification in justifications(T, D, statement.left) for j in justification}\n",
    "    Irr = D - Rel\n",
    "    R_ = materialized(Rel)\n",
    "    while R_ and entails(materialized(T) | materialized(Irr) | R_, -statement.left):\n",
    "        R_ = R_ - materialized(rank[i] & Rel)\n",
    "        i += 1\n",
    "    return entails(materialized(T) | materialized(Irr) | R_, statement.materialize())"
   ],
   "metadata": {
    "collapsed": false,
    "pycharm": {
     "name": "#%%\n"
    }
   }
  },
  {
   "cell_type": "code",
   "execution_count": 5,
   "outputs": [
    {
     "name": "stdout",
     "output_type": "stream",
     "text": [
      "{ v |~ n, m |~ ¬n, v |~ c, m → v, a → v }\n"
     ]
    }
   ],
   "source": [
    "K = {-(m >> v) / bot, -(a >> v) / bot, v / c, v / n, m / -n}\n",
    "T, D = separate(K)\n",
    "print_knowledge_base(K)"
   ],
   "metadata": {
    "collapsed": false,
    "pycharm": {
     "name": "#%%\n"
    }
   }
  },
  {
   "cell_type": "markdown",
   "source": [
    "We can see that $a$ (avian blood cells) do not have a subset of statements that would render it false."
   ],
   "metadata": {
    "collapsed": false,
    "pycharm": {
     "name": "#%% md\n"
    }
   }
  },
  {
   "cell_type": "code",
   "execution_count": 6,
   "outputs": [
    {
     "data": {
      "text/plain": "set()"
     },
     "execution_count": 6,
     "metadata": {},
     "output_type": "execute_result"
    }
   ],
   "source": [
    "justifications(T, D, Formula(a))"
   ],
   "metadata": {
    "collapsed": false,
    "pycharm": {
     "name": "#%%\n"
    }
   }
  },
  {
   "cell_type": "code",
   "execution_count": 7,
   "outputs": [
    {
     "data": {
      "text/plain": "True"
     },
     "execution_count": 7,
     "metadata": {},
     "output_type": "execute_result"
    }
   ],
   "source": [
    "basic_relevance_closure(K, a/c)"
   ],
   "metadata": {
    "collapsed": false,
    "pycharm": {
     "name": "#%%\n"
    }
   }
  },
  {
   "cell_type": "markdown",
   "source": [
    "However $m$ (mammalian blood cells) can be false, because of $m |\\hspace{-0.5em}\\sim{} \\neg n$ and $m |\\hspace{-0.5em}\\sim{} n$."
   ],
   "metadata": {
    "collapsed": false,
    "pycharm": {
     "name": "#%% md\n"
    }
   }
  },
  {
   "cell_type": "code",
   "execution_count": 8,
   "outputs": [
    {
     "data": {
      "text/plain": "{frozenset({m |~ ¬n, v |~ n})}"
     },
     "execution_count": 8,
     "metadata": {},
     "output_type": "execute_result"
    }
   ],
   "source": [
    "justifications(T, D, Formula(m))"
   ],
   "metadata": {
    "collapsed": false,
    "pycharm": {
     "name": "#%%\n"
    }
   }
  },
  {
   "cell_type": "code",
   "execution_count": 9,
   "outputs": [
    {
     "data": {
      "text/plain": "True"
     },
     "execution_count": 9,
     "metadata": {},
     "output_type": "execute_result"
    }
   ],
   "source": [
    "basic_relevance_closure(K, m/c)"
   ],
   "metadata": {
    "collapsed": false,
    "pycharm": {
     "name": "#%%\n"
    }
   }
  },
  {
   "cell_type": "code",
   "execution_count": 10,
   "outputs": [
    {
     "name": "stdout",
     "output_type": "stream",
     "text": [
      "{ v |~ n, m |~ ¬n, m |~ b, s |~ ¬b, v |~ c, m → v, s → m, a → v }\n"
     ]
    }
   ],
   "source": [
    "K={-(m >> v) / bot, -(a >> v) / bot, v / c, v / n, m / -n, -(s >> m) / bot, m / b, s / -b}\n",
    "T, D = separate(K)\n",
    "print_knowledge_base(K)"
   ],
   "metadata": {
    "collapsed": false,
    "pycharm": {
     "name": "#%%\n"
    }
   }
  },
  {
   "cell_type": "markdown",
   "source": [
    "The justifications of a statement can also be multiple subsets."
   ],
   "metadata": {
    "collapsed": false,
    "pycharm": {
     "name": "#%% md\n"
    }
   }
  },
  {
   "cell_type": "code",
   "execution_count": 11,
   "outputs": [
    {
     "data": {
      "text/plain": "{frozenset({m |~ b, s |~ ¬b}), frozenset({m |~ ¬n, v |~ n})}"
     },
     "execution_count": 11,
     "metadata": {},
     "output_type": "execute_result"
    }
   ],
   "source": [
    "justifications(T, D, Formula(s))"
   ],
   "metadata": {
    "collapsed": false,
    "pycharm": {
     "name": "#%%\n"
    }
   }
  },
  {
   "cell_type": "code",
   "execution_count": 12,
   "outputs": [
    {
     "data": {
      "text/plain": "False"
     },
     "execution_count": 12,
     "metadata": {},
     "output_type": "execute_result"
    }
   ],
   "source": [
    "basic_relevance_closure(K, s / -n)"
   ],
   "metadata": {
    "collapsed": false,
    "pycharm": {
     "name": "#%%\n"
    }
   }
  },
  {
   "cell_type": "code",
   "execution_count": 12,
   "outputs": [],
   "source": [],
   "metadata": {
    "collapsed": false,
    "pycharm": {
     "name": "#%%\n"
    }
   }
  }
 ],
 "metadata": {
  "kernelspec": {
   "display_name": "Python 3 (ipykernel)",
   "language": "python",
   "name": "python3"
  },
  "language_info": {
   "codemirror_mode": {
    "name": "ipython",
    "version": 3
   },
   "file_extension": ".py",
   "mimetype": "text/x-python",
   "name": "python",
   "nbconvert_exporter": "python",
   "pygments_lexer": "ipython3",
   "version": "3.8.13"
  }
 },
 "nbformat": 4,
 "nbformat_minor": 4
}